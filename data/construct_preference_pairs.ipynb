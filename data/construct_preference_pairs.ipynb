{
 "cells": [
  {
   "cell_type": "code",
   "execution_count": 44,
   "id": "15cf9549-aa70-4bd5-b314-3c3eedacd486",
   "metadata": {},
   "outputs": [],
   "source": [
    "\"\"\"\n",
    "This code is for constructing labeled preference pairs.\n",
    "\"\"\"\n",
    "import os\n",
    "import json\n",
    "from tqdm import tqdm\n",
    "import numpy as np\n",
    "import random\n",
    "from random import shuffle\n",
    "random.seed(42)"
   ]
  },
  {
   "cell_type": "markdown",
   "id": "4dab57ee-2269-4ad4-a22e-fb9a894347f3",
   "metadata": {},
   "source": [
    "## 1. UltraFeedback (AI Feedback)"
   ]
  },
  {
   "cell_type": "code",
   "execution_count": 2,
   "id": "aa1c46ed-c327-4e5f-81eb-cabd1c97be68",
   "metadata": {},
   "outputs": [],
   "source": [
    "ultra_feedback_dir = \"UltraFeedback\""
   ]
  },
  {
   "cell_type": "code",
   "execution_count": 3,
   "id": "b937a9c4-6f1d-4e42-a16c-2cda6454c629",
   "metadata": {},
   "outputs": [
    {
     "name": "stdout",
     "output_type": "stream",
     "text": [
      "['ultrachat.jsonl', 'truthful_qa.jsonl', '.gitattributes', 'flan.jsonl', 'false_qa.jsonl', 'sharegpt.jsonl', '.huggingface', 'README.md', 'evol_instruct.jsonl']\n"
     ]
    },
    {
     "name": "stderr",
     "output_type": "stream",
     "text": [
      "100%|██████████| 9/9 [00:08<00:00,  1.09it/s]\n"
     ]
    }
   ],
   "source": [
    "def read_ultra_feedback(data_dir):\n",
    "    all_files = os.listdir(data_dir)\n",
    "    print(all_files)\n",
    "    examples = list()\n",
    "    for data_file in tqdm(all_files):\n",
    "        if \".jsonl\" not in data_file:\n",
    "            continue\n",
    "        with open(os.path.join(data_dir, data_file), \"r\", encoding=\"utf-8\") as fr:\n",
    "            for line in fr.readlines():\n",
    "                examples.append(json.loads(line))\n",
    "    return examples\n",
    "ultra_feedback_examples = read_ultra_feedback(ultra_feedback_dir)"
   ]
  },
  {
   "cell_type": "code",
   "execution_count": 41,
   "id": "68b532ed-5842-4eb9-87bf-8b2642097600",
   "metadata": {},
   "outputs": [
    {
     "name": "stderr",
     "output_type": "stream",
     "text": [
      "100%|██████████| 63967/63967 [00:00<00:00, 65769.99it/s]\n"
     ]
    }
   ],
   "source": [
    "def obtain_pair_from_ultra_feedback(examples):\n",
    "    \"\"\"\n",
    "    Construct pair-wise data for preference optimzation\n",
    "    return :the structure of example:\n",
    "    \n",
    "      {\n",
    "        \"conversations\": [\n",
    "          {\n",
    "            \"from\": \"system\",\n",
    "            \"value\": \"You are a teacher. Given a task, you explain in simple steps what the task is asking, any guidelines it provides and how to use those guidelines to find the answer.\"\n",
    "          },\n",
    "          {\n",
    "            \"from\": \"human\",\n",
    "            \"value\": \"Q: In this task, you need to provide the parts-of-speech tag of a word present in a sentence specified within curly braces  ( '{{ ... }}' ). The parts-of-speech tags are coarse labels that represent a category of words with similar grammatical properties. The list of part-of-speech tags i.e tagset of this corpus is - \\n '.': Period symbol is used for symbols denoting Punctuations/Separations such as comma, period, backticks etc., \\n 'ADJ': Adjectives are words that typically modify nouns and specify their properties or attributes, \\n 'ADP': Adposition is a cover term for prepositions and postpositions, \\n 'ADV': Adverbs are words that typically modify verbs for such categories as time, place, direction or manner, \\n 'CONJ': A word used to connect clauses or sentences or to coordinate words in the same clause, \\n 'DET': Determiners are words that modify nouns or noun phrases and express the reference of the noun phrase in context, \\n 'NOUN': Nouns are a part of speech typically denoting a person, place, thing, animal or idea, \\n 'NUM': A numeral is a word, functioning most typically as a determiner, adjective or pronoun, that expresses a number and a relation to the number, such as quantity, sequence, frequency or fraction, \\n 'PRT': Particles are function words that must be associated with another word or phrase to impart meaning and that do not satisfy definitions of other universal parts of speech, \\n 'PRON': Pronouns are words that substitute for nouns or noun phrases, whose meaning is recoverable from the linguistic or extralinguistic context, \\n 'PROPN': A proper noun is a noun (or nominal content word) that is the name (or part of the name) of a specific individual, place, or object, \\n 'VERB': A verb is a member of the syntactic class of words that typically signal events and actions, can constitute a minimal predicate in a clause, and govern the number and types of other constituents which may occur in the clause, \\n 'X': The tag X is used for words that for some reason cannot be assigned a real part-of-speech category.\\nSentence: `` I'm not worried about it '' , Phil said {{ . }} \\nWord: .\\nA:\"\n",
    "          }\n",
    "        ],\n",
    "        \"chosen\": {\n",
    "          \"from\": \"assistant\",\n",
    "          \"value\": \"In this task, you are asked to identify the part-of-speech (POS) tag for a word in a given sentence. The word is specified within curly braces ({{...}}). The corpus follows a predefined tagset that indicates different parts-of-speech categories.\\n\\nTo complete this task:\\n\\n1. Carefully read the list of part-of-speech tags provided.\\n2. Analyze the sentence given, paying attention to the word within the curly braces: \\\"{{ . }}\\\"\\n3. Look through the tagset and determine which tag best fits the word within the curly braces.\\n4. Provide the appropriate part-of-speech tag for the word.\\n\\nFor the given sentence: \\\"I'm not worried about it\\\", Phil said {{ . }}\\nWord: .\\n\\nUsing the guidelines, we can see that the word '.' is a punctuation symbol. According to the tagset:\\n'.': Period symbol is used for symbols denoting Punctuations/Separations such as comma, period, backticks, etc.\\n\\nSo, the part-of-speech tag for the word '.' is: '.'\"\n",
    "        },\n",
    "        \"rejected\": {\n",
    "          \"from\": \"assistant\",\n",
    "          \"value\": \"Sure, I'd be happy to help! Here are the steps to find the part of speech of the word in the given sentence:\\n\\nStep 1: Read the sentence and identify the word you want to find the part of speech for. In this case, the word is \\\"it\\\".\\n\\nStep 2: Look at the list of part-of-speech tags provided in the task. In this case, we have the following tags:\\n\\n'.': Period symbol (punctuation)\\nADJ: Adjective\\nADP: Adposition (preposition or postposition)\\nADV: Adverb\\nCONJ: Conjunction\\nDET: Determiner\\nNOUN: Noun\\nNUM: Numeral\\nPRT: Particle\\nPRON: Pronoun\\nPROPN: Proper noun\\nVERB: Verb\\nX: Unclassified word (for words that cannot be assigned a real part-of-speech category)\\n\\nStep 3: Look at the word \\\"it\\\" in the sentence and determine which category it best fits into. In this case, \\\"it\\\" is a pronoun, so the part of speech is PRON.\\n\\nTherefore, the part of speech of the word \\\"it\\\" in the sentence \\\"I'm not worried about it\\\", Phil said is PRON.\"\n",
    "        }\n",
    "      }\n",
    "    \"\"\"\n",
    "    preference_pair_examples = list()\n",
    "    for example in tqdm(examples):\n",
    "        instruction = example[\"instruction\"]\n",
    "        completions = example[\"completions\"]\n",
    "        model_list = example[\"models\"]\n",
    "        score_list = list()\n",
    "        system_prompt_list = list()\n",
    "        response_list = list()\n",
    "        for response_result in completions:\n",
    "            custom_system_prompt = response_result[\"custom_system_prompt\"]\n",
    "            fine_score = response_result[\"fine-grained_score\"]\n",
    "            overall_score = response_result[\"overall_score\"]\n",
    "            response = response_result[\"response\"]\n",
    "            \n",
    "            score_list.append(fine_score + overall_score)\n",
    "            system_prompt_list.append(custom_system_prompt)\n",
    "            response_list.append(response)\n",
    "        \n",
    "        if len(score_list) < 2:\n",
    "            continue\n",
    "        # select the highest score\n",
    "        accepted_response_idx = np.argmax(score_list)\n",
    "        rejected_response_idx = -1\n",
    "        # random select one lower score\n",
    "        num = 5\n",
    "        while num >= 0:\n",
    "            num -= 1\n",
    "            rejected_response_idx = random.choice(list(range(len(model_list))))\n",
    "            if rejected_response_idx != accepted_response_idx:\n",
    "                break\n",
    "        if rejected_response_idx == accepted_response_idx:\n",
    "            continue\n",
    "        preference_pair_examples.append({\n",
    "            \"conversations\": [\n",
    "                {\n",
    "                    \"from\": \"system\",\n",
    "                    \"value\": system_prompt_list[accepted_response_idx],\n",
    "                },\n",
    "                {\n",
    "                    \"from\": \"human\",\n",
    "                    \"value\": instruction,\n",
    "                }\n",
    "            ],\n",
    "            \"chosen\": {\n",
    "                # \"from\": model_list[accepted_response_idx],\n",
    "                \"from\": \"assistant\",\n",
    "                \"value\": response_list[accepted_response_idx]\n",
    "            },\n",
    "            \"rejected\": {\n",
    "                # \"from\": model_list[rejected_response_idx],\n",
    "                \"from\": \"assistant\",\n",
    "                \"value\": response_list[rejected_response_idx]\n",
    "            }\n",
    "        })\n",
    "    return preference_pair_examples\n",
    "        \n",
    "ultra_feedback_preference_pair_examples = obtain_pair_from_ultra_feedback(ultra_feedback_examples)"
   ]
  },
  {
   "cell_type": "code",
   "execution_count": 62,
   "id": "3fcd1e66-fcd4-4cdb-93ee-fa5051a62006",
   "metadata": {},
   "outputs": [
    {
     "name": "stderr",
     "output_type": "stream",
     "text": [
      "100%|██████████| 63953/63953 [00:00<00:00, 163022.58it/s]\n"
     ]
    }
   ],
   "source": [
    "def obtain_cls_from_preference_pair_ultra_feedback(examples):\n",
    "    \"\"\"\n",
    "    Construct cls style for preference optimzation\n",
    "    input: ultra_feedback_preference_pair_examples\n",
    "    return :the structure of example:\n",
    "    \n",
    "      {\n",
    "        \"instruction\": \"You are a good preference labeler. Give you one query from human and two candidate responses answered by the same assistant, your job is to find the better response which is more helpful, harmless for the human query.\\n\\nQ: xxx\\n\\n\\nResponse #1: \\n\\n\\nReponse #2\",\n",
    "        \"label\": \"0\"\n",
    "      }\n",
    "    \"\"\"\n",
    "    ultra_feedback_cls_examples = list()\n",
    "    for example in tqdm(examples):\n",
    "        accepted, rejected = example[\"chosen\"][\"value\"], example[\"rejected\"][\"value\"]\n",
    "        query = example[\"conversations\"][1][\"value\"]\n",
    "        ultra_feedback_cls_examples.append({\n",
    "            \"instruction\": f\"You are a good preference labeler. Give you one query from human and two candidate responses answered by the same assistant, your job is to find the better response which is more helpful, harmless for the human query.\\n\\nQ: {query}\\n\\n\\nResponse #1: {accepted} \\n\\n\\nReponse #2: {rejected}\",\n",
    "            \"label\": 0\n",
    "        })\n",
    "        ultra_feedback_cls_examples.append({\n",
    "            \"instruction\": f\"You are a good preference labeler. Give you one query from human and two candidate responses answered by the same assistant, your job is to find the better response which is more helpful, harmless for the human query.\\n\\nQ: {query}\\n\\n\\nResponse #1: {rejected} \\n\\n\\nReponse #2: {accepted}\",\n",
    "            \"label\": 1\n",
    "        })\n",
    "    shuffle(ultra_feedback_cls_examples)\n",
    "    return ultra_feedback_cls_examples\n",
    "ultra_feedback_cls_examples = obtain_cls_from_preference_pair_ultra_feedback(ultra_feedback_preference_pair_examples)\n"
   ]
  },
  {
   "cell_type": "code",
   "execution_count": 63,
   "id": "a1808b6e-f588-4ee2-9bcc-d5f12b859f8d",
   "metadata": {},
   "outputs": [
    {
     "name": "stderr",
     "output_type": "stream",
     "text": [
      "100%|██████████| 63953/63953 [00:06<00:00, 9228.74it/s] \n",
      "100%|██████████| 127906/127906 [00:10<00:00, 12565.54it/s]\n"
     ]
    }
   ],
   "source": [
    "with open(\"./UltraFeedback/pair_train_data.json\", \"w\", encoding=\"utf-8\") as fw:\n",
    "    for example in tqdm(ultra_feedback_preference_pair_examples):\n",
    "        fw.write(json.dumps(example, ensure_ascii=False) + \"\\n\")\n",
    "\n",
    "with open(\"./UltraFeedback/cls_train_data.json\", \"w\", encoding=\"utf-8\") as fw:\n",
    "    for example in tqdm(ultra_feedback_cls_examples):\n",
    "        fw.write(json.dumps(example, ensure_ascii=False) + \"\\n\")"
   ]
  },
  {
   "cell_type": "code",
   "execution_count": 30,
   "id": "3d25c073-a2db-4446-8c7b-81a3c979719c",
   "metadata": {},
   "outputs": [
    {
     "data": {
      "text/plain": [
       "63952"
      ]
     },
     "execution_count": 30,
     "metadata": {},
     "output_type": "execute_result"
    }
   ],
   "source": [
    "len(ultra_feedback_preference_pair_examples)"
   ]
  },
  {
   "cell_type": "code",
   "execution_count": 40,
   "id": "533e3cad-88a0-4596-9f8b-bbe7280e45f1",
   "metadata": {},
   "outputs": [
    {
     "data": {
      "text/plain": [
       "{'conversations': [{'from': 'system',\n",
       "   'value': 'As an AI assistant, conduct yourself with honesty. Always be diligent in giving accurate responses. Fictional facts or inaccuracies should be avoided in your responses.'},\n",
       "  {'from': 'human',\n",
       "   'value': 'Can you make me a code to illustrate a molecule using its SMILES?'}],\n",
       " 'chosen': {'from': 'assistant',\n",
       "  'value': \"I'd be happy to help! However, I must point out that the question contains some ambiguity. SMILES (Simplified Molecular Input Line Entry System) is a notation for describing the structure of molecules using short strings of characters. It is not a programming language, and it cannot be used to create executable code.\\n\\nIf you meant to ask for a code that can generate a visual representation of a molecule from its SMILES string, I can provide you with some suggestions. There are several libraries and tools available that can help with this task, such as RDKit, PyMOL, or Matplotlib.\\n\\nHere's an example of how you could use RDKit to generate a 2D representation of a molecule from its SMILES string:\\n```python\\nfrom rdkit import Chem\\n\\n# Define the SMILES string\\nsmiles = 'CC(=O)Nc1ccc(cc1)S(=O)(=O)N'\\n\\n# Load the SMILES string into a molecule object\\nmol = Chem.MolFromSmiles(smiles)\\n\\n# Generate a 2D diagram of the molecule\\ndiagram = Chem.MolTo2DImage(mol)\\n\\n# Display the diagram\\nChem.MolTo2DImage(mol, 400)\\n```\\nThis code will generate a 2D diagram of the molecule represented by the SMILES string, using RDKit's default settings. You can customize the diagram's appearance by adjusting the parameters of the `MolTo2DImage` function.\\n\\nI hope this helps! Let me know if you have any further questions or need additional assistance.\"},\n",
       " 'rejected': {'from': 'assistant',\n",
       "  'value': 'Sure, Here is a Python code snippet that utilizes the \\'matplotlib\\' library to illustrate a molecule using its SMILES. The code uses the \\'RDKit\\' library to parse the SMILES and create a 2D representation of the molecule, which is then visualized using \\'matplotlib\\'.\\n\\nPlease install these libraries first if they are not installed using pip:\\n```bash\\npip install rdkit\\npip install matplotlib\\n```\\n\\nPython code:\\n```python\\nfrom rdkit import Chem\\nimport matplotlib.pyplot as plt\\n\\ndef draw_molecule(smiles):\\n    # Create a molecule object from SMILES\\n    mol = Chem.MolFromSmiles(smiles)\\n    \\n    # Create a 2D representation of the molecule if possible\\n    if len(Chem.AllChem.GetAtomWithIdx(mol, i).GetAtomMapNum(), for i in range(mol.GetAtomWithIdx(0).GetDegree())) != 2:\\n        return None\\n\\n    # Compute the 2D coordinates\\n    xy = Chem.Electronic.Get2DCoords(mol) \\n    # Create a matplotlib figure\\n    fig = plt.figure(figsize=(8, 6))\\n    # Create an axis object\\n    ax = fig.add_subplot(111)\\n    # Plot the points\\n    for i in range(len(xy)):\\n        ax.scatter(xy[i][0], xy[i][1] ,40) # 40 is for the size of the points\\n    # Show plot\\n    plt.show()\\n\\n# Call the function\\ndraw_molecule(\"CN(C)C\")\\n```\\n\\nThis code can draw a 2D representation of the molecule. The atoms are represented by points. If the molecule cannot be represented in 2D (for instance, because the molecule is cyclic), the function will return \\'None\\'.\\n\\nNote: The 2D coordinates are generated using RDKit\\'s \\'Get2DCoords\\' function, which uses force field minimization to generate reasonable 2D coordinates. These coordinates are then used to plot the points representing each atom. \\n\\nIf you want to visualize the molecule in 3D, you can use \\'matplotlib\\' with \\'mpl_toolkits\\' for creating interactive 3D plots.'}}"
      ]
     },
     "execution_count": 40,
     "metadata": {},
     "output_type": "execute_result"
    }
   ],
   "source": [
    "ultra_feedback_preference_pair_examples[50030]"
   ]
  },
  {
   "cell_type": "code",
   "execution_count": 54,
   "id": "b336b680-bf1c-4c25-ab86-2b67b7c9dc8b",
   "metadata": {},
   "outputs": [
    {
     "name": "stdout",
     "output_type": "stream",
     "text": [
      "You are a good preference labeler. Give you one query from human and two candidate responses answered by the same assistant, your job is to find the better response which is more helpful, harmless for the human query.\n",
      "\n",
      "Q: In your research on the impact of guns on domestic violence, provide statistics on the frequency and severity of gun-related domestic violence incidents, examine the laws and policies that regulate firearm ownership and use in cases of domestic violence, discuss the psychological effects of gun presence on domestic violence victims, and propose potential solutions (such as stricter gun control or enhanced victim support services) to mitigate the impact of guns on domestic violence. Your presentation should include both factual information and personal anecdotal accounts to illustrate the gravity and complexity of this issue.\n",
      "\n",
      "\n",
      "Response #1: Title: The Impact of Guns on Domestic Violence\n",
      "\n",
      "Slide 1: Introduction\n",
      "\n",
      "* Definition of domestic violence\n",
      "* Overview of the topic: the impact of guns on domestic violence\n",
      "\n",
      "Slide 2: Frequency and Severity of Gun-Related Domestic Violence Incidents\n",
      "\n",
      "* Statistics on the prevalence of gun-related domestic violence incidents\n",
      "* The increased risk of homicide in domestic violence situations involving guns\n",
      "* Comparing the frequency and severity of incidents with and without guns\n",
      "\n",
      "Slide 3: Laws and Policies Regulating Firearm Ownership and Use in Cases of Domestic Violence\n",
      "\n",
      "* Summary of federal laws and regulations on gun ownership and domestic violence\n",
      "* State-level laws and policies on firearm possession for individuals with a history of domestic violence\n",
      "* Examining the effectiveness of current laws and policies\n",
      "\n",
      "Slide 4: Psychological Effects of Gun Presence on Domestic Violence Victims\n",
      "\n",
      "* The role of fear and intimidation in domestic violence situations involving guns\n",
      "* The psychological impact on victims: long-term effects on mental health and well-being\n",
      "* Barriers to escaping abusive relationships when guns are involved\n",
      "\n",
      "Slide 5: Potential Solutions - Stricter Gun Control\n",
      "\n",
      "* The argument for stricter gun control measures to reduce gun-related domestic violence incidents\n",
      "* Examining the potential effectiveness of these measures in various contexts\n",
      "\n",
      "Slide 6: Potential Solutions - Enhanced Victim Support Services\n",
      "\n",
      "* The role of victim support services in helping those affected by domestic violence\n",
      "* Services that may be beneficial, such as counseling, temporary housing, and legal assistance\n",
      "* Current funding and availability of these services, and the need for increased resources\n",
      "\n",
      "Slide 7: Personal Anecdotal Accounts\n",
      "\n",
      "* Share stories of individuals who have been directly affected by gun-related domestic violence\n",
      "* The stories should illustrate the gravity of the issue and demonstrate the challenges faced by victims and survivors\n",
      "\n",
      "Slide 8: Conclusion\n",
      "\n",
      "* Recap of the major points covered in the presentation\n",
      "* The need for further discussion, research, and action to address the impact of guns on domestic violence\n",
      "\n",
      "By incorporating a mix of factual information and personal anecdotal accounts, this presentation will provide a comprehensive understanding of the impact of guns on domestic violence, while emphasizing the gravity and complexity of the issue. \n",
      "\n",
      "\n",
      "Reponse #2: Guns in the Home and Domestic Violence: Facts and Figures\n",
      "\n",
      "There are various studies on the statistical relationship between guns in the home and domestic violence. These studies show that not only are there a higher number of firearm-related incidents in domestic violence cases, but that those incidents are more severe as well.\n",
      "\n",
      "• An analysis of federal data from 2006 to 2010 found that 48% of women killed by their partners were killed with firearms.\n",
      "\n",
      "• According to the National Intimate Partner and Sexual Violence Survey (NISVS), which interviewed over 50,000 respondents in 2015, intimate partner violence (IPV) is the most commonly experienced form of violence by women aged 18-44. Among women who experienced IPV, nearly 4 in 10 (38.9%) were threatened with a gun by their partner in the 12 months before the survey. \n",
      "\n",
      "• Firearm-related homicides represented 29.1% (7,264) of all homicides in 2017 which was a slight decrease from 2016 when it was 30.5%.\n",
      "\n",
      "Laws and Policies Affecting Gun Ownership and Domestic Violence\n",
      "\n",
      "Several laws and policies exist at the federal, state, and local levels aimed at preventing firearm-related domestic violence incidents.\n",
      "\n",
      "• Federal law prohibits people from purchasing or possessing firearms if they have been convicted of misdemeanor domestic violence offenses, or have subjected or threatened to subject their intimate partner to abuse.\n",
      "\n",
      "• Ten states and Washington, D.C., have expanded their domestic violence gun bans to include individuals who are subject to domestic violence restraining orders.\n",
      "\n",
      "• Some states have allowed people to petition the courts to temporarily remove guns from the home of someone they believe to be a risk of domestic violence.\n",
      "\n",
      "Psychological Impact of Guns in Domestic Violence\n",
      "\n",
      "For a victim of domestic violence, the presence of a gun can exacerbate the abuse they experience. Guns can be used as a way to control and intimidate their partners. Victims may be forced to witness their abuser using a gun, which can make it difficult for them to leave an abusive relationship.\n",
      "\n",
      "• A study examining the link between intimate partner violence and firearm homicide found that exposure to firearm violence during childhood increases a woman’s risk of perpetrating IPV in adulthood.\n",
      "\n",
      "• Studies have shown that women who are victims of intimate partner violence are less likely to seek help because they are intimidated by the abuser's access to firearms.\n",
      "\n",
      "Potential Solutions to Mitigate the Impact of Guns on Domestic Violence\n",
      "\n",
      "• Encouraging safe storage of firearms to prevent them from being accessible to abusers.\n",
      "\n",
      "• Strengthening background check requirements to prevent people with a history of domestic violence or abuse from purchasing firearms.\n",
      "\n",
      "• Implementing policies that make it easier for victims of domestic violence to obtain firearm restraining orders.\n",
      "\n",
      "• Providing victim services that can help abuse victims escape their abusive relationships, and offer support and resources to help them stay safe.\n",
      "\n",
      "• Funding violence prevention and intervention programs that aim to reduce the rate of intimate partner violence and promote healthy relationships.\n",
      "1\n"
     ]
    }
   ],
   "source": [
    "idx = 10001\n",
    "print(ultra_feedback_cls_examples[idx][\"prompt\"])\n",
    "print(ultra_feedback_cls_examples[idx][\"label\"])"
   ]
  }
 ],
 "metadata": {
  "kernelspec": {
   "display_name": "Python 3 (ipykernel)",
   "language": "python",
   "name": "python3"
  },
  "language_info": {
   "codemirror_mode": {
    "name": "ipython",
    "version": 3
   },
   "file_extension": ".py",
   "mimetype": "text/x-python",
   "name": "python",
   "nbconvert_exporter": "python",
   "pygments_lexer": "ipython3",
   "version": "3.6.8"
  }
 },
 "nbformat": 4,
 "nbformat_minor": 5
}
