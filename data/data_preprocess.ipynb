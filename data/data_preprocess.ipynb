{
 "cells": [
  {
   "cell_type": "code",
   "execution_count": 92,
   "id": "a6f97d4e-9ef3-4b46-bddf-0f4f5ad98eb3",
   "metadata": {},
   "outputs": [],
   "source": [
    "\"\"\"\n",
    "This code is for constructing labeled preference pairs.\n",
    "\"\"\"\n",
    "import os\n",
    "import json\n",
    "from tqdm import tqdm\n",
    "import numpy as np\n",
    "import random\n",
    "from random import shuffle\n",
    "import pandas as pd\n",
    "from transformers import AutoTokenizer\n",
    "random.seed(42)\n"
   ]
  },
  {
   "cell_type": "code",
   "execution_count": null,
   "id": "5bbcf97b-5839-4d89-8ccc-73a346d22fd0",
   "metadata": {},
   "outputs": [],
   "source": [
    "def calculate_length_distribution(text, tokenizer):\n",
    "    tokenizer(text)"
   ]
  },
  {
   "cell_type": "markdown",
   "id": "f61fdb04-793d-4424-8096-9b4d584987cf",
   "metadata": {},
   "source": [
    "# Chap1: LLM Bench"
   ]
  },
  {
   "cell_type": "markdown",
   "id": "294f9dc6-8eef-4a31-a1ef-dc32a5bf4be4",
   "metadata": {},
   "source": [
    "## 1. UltraFeedback (AI Feedback)\n",
    "path: https://hf-mirror.com/datasets/HuggingFaceH4/ultrafeedback_binarized\n",
    "\n",
    "This data is used for iteration preference optimzation"
   ]
  },
  {
   "cell_type": "code",
   "execution_count": 3,
   "id": "ab8a5b73-54f5-4dfa-aab3-313d934d99d2",
   "metadata": {},
   "outputs": [],
   "source": [
    "ultra_feedback_dir = \"UltraFeedback\""
   ]
  },
  {
   "cell_type": "code",
   "execution_count": 4,
   "id": "17c7b106-ce2b-478d-955f-0a1979709807",
   "metadata": {},
   "outputs": [],
   "source": [
    "def read_ultralfeedback_data(data_dir):\n",
    "    df_train = pd.read_parquet(os.path.join(data_dir, \"train.parquet\"))\n",
    "    df_train = json.loads(df_train.to_json(orient='records'))\n",
    "    df_test = pd.read_parquet(os.path.join(data_dir, \"test.parquet\"))\n",
    "    df_test = json.loads(df_test.to_json(orient='records'))\n",
    "    return df_train, df_test\n",
    "    \n",
    "ultralfeedback_train_data, ultralfeedback_test_data = read_ultralfeedback_data(ultra_feedback_dir)"
   ]
  },
  {
   "cell_type": "code",
   "execution_count": 134,
   "id": "29abb473-302d-45f6-b974-f55aaa15a4ca",
   "metadata": {},
   "outputs": [
    {
     "data": {
      "text/plain": [
       "{'prompt': 'How does the use of an unreliable narrator impact the readers\\' understanding of \"Gone Girl\" by Gillian Flynn?',\n",
       " 'prompt_id': 'b3f9c485b2434c41e60ee7bc1d2eafaab22e16cd0dc851be8bfbd90ab84241d9',\n",
       " 'chosen': [{'content': 'How does the use of an unreliable narrator impact the readers\\' understanding of \"Gone Girl\" by Gillian Flynn?',\n",
       "   'role': 'user'},\n",
       "  {'content': 'The use of an unreliable narrator in \"Gone Girl\" significantly impacts the readers\\' understanding of the story, as it challenges their perception of the characters and the narrative. Here\\'s how:\\n\\n1. Keeps readers guessing: With unreliable narrators like Nick and Amy Dunne, the readers can never truly know who or what to believe. This creates an atmosphere of mystery and suspicion, making the reading experience more engaging and intriguing.\\n\\n2. Enhances suspense: By providing conflicting or misleading information, the unreliable narrators keep the readers on their toes and heighten the sense of suspense throughout the novel. This builds anticipation for the story\\'s resolution and keeps the readers hooked.\\n\\n3. Encourages critical thinking: Since the narrators\\' reliability is in question, readers must actively engage with the text to form their own judgments and opinions about the characters and events. This encourages them to think critically and recognize their own biases or assumptions while reading.\\n\\n4. Explores complex themes: The use of unreliable narrators allows the author to delve into themes like manipulation, deception, and the nature of truth. This adds depth to the story and allows for a richer exploration of the characters\\' psyches.\\n\\n5. Influences interpretation: Finally, the unreliable narrators in \"Gone Girl\" can lead to varying interpretations of the story. Since the readers cannot entirely trust what they are being told by the characters, they may draw different conclusions or see the events in a new light.\\n\\nOverall, the use of unreliable narrators in \"Gone Girl\" significantly impacts the readers\\' understanding of the story and adds an extra layer of intrigue and complexity to the novel.',\n",
       "   'role': 'assistant'}],\n",
       " 'rejected': [{'content': 'How does the use of an unreliable narrator impact the readers\\' understanding of \"Gone Girl\" by Gillian Flynn?',\n",
       "   'role': 'user'},\n",
       "  {'content': 'The use of an unreliable narrator in \"Gone Girl\" by Gillian Flynn has a powerful impact on readers. By using an unreliable narrator, Flynn is able to present two different versions of events and make it unclear what truly happened in the past. This causes readers to doubt the truthfulness of the narrator and keeps them on their toes as they try to unravel the mystery of what happened. The unreliable narrator also contributes to the theme of marriage dissolution and manipulation, as the reader never knows whom or what to trust. In this way, the unreliable narrator creates suspense and confusion while also furthering the plot and characters, adding even more depth to this modern classic.',\n",
       "   'role': 'assistant'}],\n",
       " 'messages': [{'content': 'How does the use of an unreliable narrator impact the readers\\' understanding of \"Gone Girl\" by Gillian Flynn?',\n",
       "   'role': 'user'},\n",
       "  {'content': 'The use of an unreliable narrator in \"Gone Girl\" significantly impacts the readers\\' understanding of the story, as it challenges their perception of the characters and the narrative. Here\\'s how:\\n\\n1. Keeps readers guessing: With unreliable narrators like Nick and Amy Dunne, the readers can never truly know who or what to believe. This creates an atmosphere of mystery and suspicion, making the reading experience more engaging and intriguing.\\n\\n2. Enhances suspense: By providing conflicting or misleading information, the unreliable narrators keep the readers on their toes and heighten the sense of suspense throughout the novel. This builds anticipation for the story\\'s resolution and keeps the readers hooked.\\n\\n3. Encourages critical thinking: Since the narrators\\' reliability is in question, readers must actively engage with the text to form their own judgments and opinions about the characters and events. This encourages them to think critically and recognize their own biases or assumptions while reading.\\n\\n4. Explores complex themes: The use of unreliable narrators allows the author to delve into themes like manipulation, deception, and the nature of truth. This adds depth to the story and allows for a richer exploration of the characters\\' psyches.\\n\\n5. Influences interpretation: Finally, the unreliable narrators in \"Gone Girl\" can lead to varying interpretations of the story. Since the readers cannot entirely trust what they are being told by the characters, they may draw different conclusions or see the events in a new light.\\n\\nOverall, the use of unreliable narrators in \"Gone Girl\" significantly impacts the readers\\' understanding of the story and adds an extra layer of intrigue and complexity to the novel.',\n",
       "   'role': 'assistant'}],\n",
       " 'score_chosen': 8.5,\n",
       " 'score_rejected': 7.0}"
      ]
     },
     "execution_count": 134,
     "metadata": {},
     "output_type": "execute_result"
    }
   ],
   "source": [
    "ultralfeedback_test_data[20]"
   ]
  },
  {
   "cell_type": "code",
   "execution_count": 21,
   "id": "8f4e0a5b-a502-4445-a126-5620a0feb023",
   "metadata": {},
   "outputs": [
    {
     "name": "stderr",
     "output_type": "stream",
     "text": [
      "100%|██████████| 61135/61135 [00:00<00:00, 204095.76it/s]\n",
      "100%|██████████| 2000/2000 [00:00<00:00, 421157.14it/s]"
     ]
    },
    {
     "name": "stdout",
     "output_type": "stream",
     "text": [
      "len(ultra_feedback_preference_pair_train_examples)= 61135\n",
      "len(ultra_feedback_preference_pair_test_examples)= 2000\n"
     ]
    },
    {
     "name": "stderr",
     "output_type": "stream",
     "text": [
      "\n"
     ]
    }
   ],
   "source": [
    "def preprocess_ultra_feedback(examples):\n",
    "    \"\"\"\n",
    "    Construct pair-wise data for preference optimzation\n",
    "    return :the structure of example:\n",
    "    \n",
    "      {\n",
    "        \"conversations\": [\n",
    "          {\n",
    "            \"from\": \"system\",\n",
    "            \"value\": \"You are a teacher. Given a task, you explain in simple steps what the task is asking, any guidelines it provides and how to use those guidelines to find the answer.\"\n",
    "          },\n",
    "          {\n",
    "            \"from\": \"human\",\n",
    "            \"value\": \"Q: In this task, you need to provide the parts-of-speech tag of a word present in a sentence specified within curly braces  ( '{{ ... }}' ). The parts-of-speech tags are coarse labels that represent a category of words with similar grammatical properties. The list of part-of-speech tags i.e tagset of this corpus is - \\n '.': Period symbol is used for symbols denoting Punctuations/Separations such as comma, period, backticks etc., \\n 'ADJ': Adjectives are words that typically modify nouns and specify their properties or attributes, \\n 'ADP': Adposition is a cover term for prepositions and postpositions, \\n 'ADV': Adverbs are words that typically modify verbs for such categories as time, place, direction or manner, \\n 'CONJ': A word used to connect clauses or sentences or to coordinate words in the same clause, \\n 'DET': Determiners are words that modify nouns or noun phrases and express the reference of the noun phrase in context, \\n 'NOUN': Nouns are a part of speech typically denoting a person, place, thing, animal or idea, \\n 'NUM': A numeral is a word, functioning most typically as a determiner, adjective or pronoun, that expresses a number and a relation to the number, such as quantity, sequence, frequency or fraction, \\n 'PRT': Particles are function words that must be associated with another word or phrase to impart meaning and that do not satisfy definitions of other universal parts of speech, \\n 'PRON': Pronouns are words that substitute for nouns or noun phrases, whose meaning is recoverable from the linguistic or extralinguistic context, \\n 'PROPN': A proper noun is a noun (or nominal content word) that is the name (or part of the name) of a specific individual, place, or object, \\n 'VERB': A verb is a member of the syntactic class of words that typically signal events and actions, can constitute a minimal predicate in a clause, and govern the number and types of other constituents which may occur in the clause, \\n 'X': The tag X is used for words that for some reason cannot be assigned a real part-of-speech category.\\nSentence: `` I'm not worried about it '' , Phil said {{ . }} \\nWord: .\\nA:\"\n",
    "          }\n",
    "        ],\n",
    "        \"chosen\": {\n",
    "          \"from\": \"assistant\",\n",
    "          \"value\": \"In this task, you are asked to identify the part-of-speech (POS) tag for a word in a given sentence. The word is specified within curly braces ({{...}}). The corpus follows a predefined tagset that indicates different parts-of-speech categories.\\n\\nTo complete this task:\\n\\n1. Carefully read the list of part-of-speech tags provided.\\n2. Analyze the sentence given, paying attention to the word within the curly braces: \\\"{{ . }}\\\"\\n3. Look through the tagset and determine which tag best fits the word within the curly braces.\\n4. Provide the appropriate part-of-speech tag for the word.\\n\\nFor the given sentence: \\\"I'm not worried about it\\\", Phil said {{ . }}\\nWord: .\\n\\nUsing the guidelines, we can see that the word '.' is a punctuation symbol. According to the tagset:\\n'.': Period symbol is used for symbols denoting Punctuations/Separations such as comma, period, backticks, etc.\\n\\nSo, the part-of-speech tag for the word '.' is: '.'\"\n",
    "        },\n",
    "        \"rejected\": {\n",
    "          \"from\": \"assistant\",\n",
    "          \"value\": \"Sure, I'd be happy to help! Here are the steps to find the part of speech of the word in the given sentence:\\n\\nStep 1: Read the sentence and identify the word you want to find the part of speech for. In this case, the word is \\\"it\\\".\\n\\nStep 2: Look at the list of part-of-speech tags provided in the task. In this case, we have the following tags:\\n\\n'.': Period symbol (punctuation)\\nADJ: Adjective\\nADP: Adposition (preposition or postposition)\\nADV: Adverb\\nCONJ: Conjunction\\nDET: Determiner\\nNOUN: Noun\\nNUM: Numeral\\nPRT: Particle\\nPRON: Pronoun\\nPROPN: Proper noun\\nVERB: Verb\\nX: Unclassified word (for words that cannot be assigned a real part-of-speech category)\\n\\nStep 3: Look at the word \\\"it\\\" in the sentence and determine which category it best fits into. In this case, \\\"it\\\" is a pronoun, so the part of speech is PRON.\\n\\nTherefore, the part of speech of the word \\\"it\\\" in the sentence \\\"I'm not worried about it\\\", Phil said is PRON.\"\n",
    "        }\n",
    "      }\n",
    "    \"\"\"\n",
    "    preference_pair_examples = list()\n",
    "    for example in tqdm(examples):\n",
    "        prompt = example[\"prompt\"]\n",
    "        chosen_response = example[\"chosen\"][1][\"content\"]\n",
    "        rejected_response = example[\"rejected\"][1][\"content\"]\n",
    "        chosen_score, rejected_score = example[\"score_chosen\"], example[\"score_rejected\"]\n",
    "        # if chosen_score <= rejected_score:\n",
    "        #     continue\n",
    "        preference_pair_examples.append({\n",
    "            \"conversations\": [{\n",
    "                \"from\": \"human\",\n",
    "                \"value\": prompt,\n",
    "            }],\n",
    "            \"chosen\": {\n",
    "                \"from\": \"assistant\",\n",
    "                \"value\": chosen_response,\n",
    "            },\n",
    "            \"rejected\": {\n",
    "                \"from\": \"assistant\",\n",
    "                \"value\": rejected_response,\n",
    "            }\n",
    "        })\n",
    "        \n",
    "    return preference_pair_examples\n",
    "        \n",
    "ultra_feedback_preference_pair_train_examples = preprocess_ultra_feedback(ultralfeedback_train_data)\n",
    "ultra_feedback_preference_pair_test_examples = preprocess_ultra_feedback(ultralfeedback_test_data)\n",
    "\n",
    "print(\"len(ultra_feedback_preference_pair_train_examples)=\", len(ultra_feedback_preference_pair_train_examples))\n",
    "print(\"len(ultra_feedback_preference_pair_test_examples)=\", len(ultra_feedback_preference_pair_test_examples))\n"
   ]
  },
  {
   "cell_type": "code",
   "execution_count": 136,
   "id": "2dba6046-77fa-4819-a1c4-1f2631055217",
   "metadata": {},
   "outputs": [
    {
     "data": {
      "text/plain": [
       "{'instruction': 'You are a good preference labeler. Give you one query from human and two candidate responses answered by the same assistant, your job is to find the better response which is more helpful, harmless for the human query.\\n\\nQ: What role do investment bankers play in the financial industry, and how do they help businesses raise capital?\\n\\n\\nResponse #1: Investment bankers act as intermediaries between financial institutions and companies looking to raise capital, and provide advice on mergers and acquisitions. They help businesses understand the debut process and provide them with access to markets. Investment bankers also help with identifying, evaluating, structuring, and executing a variety of financial transactions, such as initial public offerings, mergers & acquisitions, and leveraged buyouts. \\n\\n\\nReponse #2: Investment bankers act as intermediaries between businesses and investors. They help businesses raise capital by structuring and selling securities such as stocks and bonds. This allows businesses to access necessary funds to grow their operations and pursue new opportunities. Additionally, investment bankers advise businesses on mergers, acquisitions, and more to help them make informed decisions.',\n",
       " 'label': 1}"
      ]
     },
     "execution_count": 136,
     "metadata": {},
     "output_type": "execute_result"
    }
   ],
   "source": [
    "ultra_feedback_cls_train_examples[0]"
   ]
  },
  {
   "cell_type": "code",
   "execution_count": 197,
   "id": "38e09e70-d568-42c0-84d6-b55bae1995ec",
   "metadata": {},
   "outputs": [
    {
     "name": "stderr",
     "output_type": "stream",
     "text": [
      "100%|██████████| 61135/61135 [00:00<00:00, 103724.79it/s]\n",
      "100%|██████████| 2000/2000 [00:00<00:00, 108701.56it/s]"
     ]
    },
    {
     "name": "stdout",
     "output_type": "stream",
     "text": [
      "len(ultra_feedback_cls_train_examples)= 122270\n",
      "len(ultra_feedback_cls_test_examples)= 4000\n"
     ]
    },
    {
     "name": "stderr",
     "output_type": "stream",
     "text": [
      "\n"
     ]
    }
   ],
   "source": [
    "def obtain_cls_from_preference_pair_ultra_feedback(examples):\n",
    "    \"\"\"\n",
    "    Construct cls style for preference optimzation\n",
    "    input: ultra_feedback_preference_pair_examples\n",
    "    return :the structure of example:\n",
    "    \n",
    "      {\n",
    "        \"instruction\": \"You are a good preference labeler. Give you one query from human and two candidate responses answered by the same assistant, your job is to find the better response which is more helpful, harmless for the human query.\\n\\nQ: xxx\\n\\n\\nResponse #1: \\n\\n\\nReponse #2\",\n",
    "        \"label\": 0\n",
    "      }\n",
    "    \n",
    "    \n",
    "    \"\"\"\n",
    "    ultra_feedback_cls_examples = list()\n",
    "    for example in tqdm(examples):\n",
    "        accepted, rejected = example[\"chosen\"][\"value\"], example[\"rejected\"][\"value\"]\n",
    "        query = example[\"conversations\"][0][\"value\"]\n",
    "        ultra_feedback_cls_examples.append({\n",
    "            \"instruction\": f\"You are a good preference labeler. Give you one query from human and two candidate responses answered by the same assistant, your job is to find the better response which is more helpful, harmless for the human query.\\n\\nQ: {query}\\n\\n\\nResponse #1: {accepted} \\n\\n\\nReponse #2: {rejected}\",\n",
    "            \"label\": 0\n",
    "        })\n",
    "        ultra_feedback_cls_examples.append({\n",
    "            \"instruction\": f\"You are a good preference labeler. Give you one query from human and two candidate responses answered by the same assistant, your job is to find the better response which is more helpful, harmless for the human query.\\n\\nQ: {query}\\n\\n\\nResponse #1: {rejected} \\n\\n\\nReponse #2: {accepted}\",\n",
    "            \"label\": 1\n",
    "        })\n",
    "    shuffle(ultra_feedback_cls_examples)\n",
    "    return ultra_feedback_cls_examples\n",
    "ultra_feedback_cls_train_examples = obtain_cls_from_preference_pair_ultra_feedback(ultra_feedback_preference_pair_train_examples)\n",
    "ultra_feedback_cls_test_examples = obtain_cls_from_preference_pair_ultra_feedback(ultra_feedback_preference_pair_test_examples)\n",
    "\n",
    "print(\"len(ultra_feedback_cls_train_examples)=\", len(ultra_feedback_cls_train_examples))\n",
    "print(\"len(ultra_feedback_cls_test_examples)=\", len(ultra_feedback_cls_test_examples))\n"
   ]
  },
  {
   "cell_type": "markdown",
   "id": "2a054aa3-06ab-4876-929e-d8c13a8a5acb",
   "metadata": {},
   "source": [
    "Note⚠️⚠️⚠️⚠️：**If you want to change the instruction prompt, please update the prompt in `src/alignment/inference/estimating/main.py` at the same time.**"
   ]
  },
  {
   "cell_type": "code",
   "execution_count": 22,
   "id": "d8b607b2-73e9-47f0-b819-9c42c9b10767",
   "metadata": {},
   "outputs": [],
   "source": [
    "shuffle(ultra_feedback_preference_pair_train_examples)\n",
    "shuffle(ultra_feedback_cls_train_examples)"
   ]
  },
  {
   "cell_type": "code",
   "execution_count": 24,
   "id": "7733dfb2-0e79-496d-b0e4-fd680cb2634b",
   "metadata": {},
   "outputs": [
    {
     "name": "stderr",
     "output_type": "stream",
     "text": [
      "100%|██████████| 61135/61135 [00:03<00:00, 19944.30it/s]\n",
      "100%|██████████| 2000/2000 [00:00<00:00, 21332.03it/s]\n"
     ]
    }
   ],
   "source": [
    "with open(\"./UltraFeedback/pair_train_data.json\", \"w\", encoding=\"utf-8\") as fw:\n",
    "    for example in tqdm(ultra_feedback_preference_pair_train_examples):\n",
    "        fw.write(json.dumps(example, ensure_ascii=False) + \"\\n\")\n",
    "\n",
    "with open(\"./UltraFeedback/pair_test_data.json\", \"w\", encoding=\"utf-8\") as fw:\n",
    "    for example in tqdm(ultra_feedback_preference_pair_test_examples):\n",
    "        fw.write(json.dumps(example, ensure_ascii=False) + \"\\n\")\n",
    "\n",
    "with open(\"./UltraFeedback/cls_train_data.json\", \"w\", encoding=\"utf-8\") as fw:\n",
    "    for example in tqdm(ultra_feedback_cls_train_examples):\n",
    "        fw.write(json.dumps(example, ensure_ascii=False) + \"\\n\")\n",
    "\n",
    "with open(\"./UltraFeedback/cls_test_data.json\", \"w\", encoding=\"utf-8\") as fw:\n",
    "    for example in tqdm(ultra_feedback_cls_test_examples):\n",
    "        fw.write(json.dumps(example, ensure_ascii=False) + \"\\n\")"
   ]
  },
  {
   "cell_type": "code",
   "execution_count": 17,
   "id": "2bab646f-1a66-4b4e-ae73-35ef9e067a06",
   "metadata": {},
   "outputs": [
    {
     "name": "stdout",
     "output_type": "stream",
     "text": [
      "You are a good preference labeler. Give you one query from human and two candidate responses answered by the same assistant, your job is to find the better response which is more helpful, harmless for the human query.\n",
      "\n",
      "Q: Describe the historical development of Python programming language, while highlighting the various design philosophies and guiding principles that influenced its creation, as well as discussing its impact on the wider software development landscape. Additionally, incorporate information on the contributions of key individuals and organizations to the language's evolution, including its ongoing updates and adaptations to contemporary technological advancements.\n",
      "\n",
      "\n",
      "Response #1: Python was created in the late 1960s by Guido van Rossum. Its development was influenced by a range of design philosophies, including Minimalism, Explicit is better than Implicit, and Symmetry among others. Throughout its history, the language has undergone a series of updates and adaptations to keep up with the changing technological landscape. Key individuals and organizations such as Raymond Hettinger, Barry Warsaw, and PyLadies have played a crucial role in shaping Python's development. \n",
      "\n",
      "\n",
      "Reponse #2: Hello! I'd be happy to help you learn about the history of the Python programming language and its impact on the software development landscape.\n",
      "\n",
      "Python was first conceived in the late 1980s by Guido van Rossum, a Dutch computer programmer, at the National Research Institute for Mathematics and Computer Science in the Netherlands. At the time, van Rossum was looking for a scripting language that was easy to use, flexible, and could be used for a variety of tasks, from simple scripting to complex software development.\n",
      "\n",
      "Python was heavily influenced by other programming languages, such as ABC, which was developed by Alan Kay and his team at Xerox PARC. Python's design philosophies and guiding principles include:\n",
      "\n",
      "1. Simplicity: Python was designed to be easy to learn and use, with a simple syntax and minimalist design.\n",
      "2. Readability: Python code should be easy to read and understand, with clear and concise naming conventions.\n",
      "3. Flexibility: Python is a general-purpose language that can be used for a wide range of tasks, from web development to scientific computing.\n",
      "4. Portability: Python code should be able to run on a variety of platforms, including Windows, macOS, and Linux.\n",
      "5. Open-source: Python is an open-source language, which means that anyone can use, modify, and distribute the code.\n",
      "\n",
      "Python was first released in 1991, and quickly gained popularity due to its ease of use and flexibility. In the early 2000s, Python 2.0 was released, which introduced a number of new features, including a built-in support for Unicode. This version of Python became the standard for many web development projects and scientific computing.\n",
      "\n",
      "In 2008, Python 3.0 was released, which introduced a number of major changes, including a new way of handling integer divisions and a new standard library. This version of Python was intended to address some of the issues with the previous version, such as the infamous \"black hole\" issue, and to provide a more stable and reliable platform for future development.\n",
      "\n",
      "Throughout its history, Python has been shaped by the contributions of many individuals and organizations. Some key contributors include:\n",
      "\n",
      "1. Guido van Rossum: Van Rossum is the creator of Python and has been actively involved in its development since its inception.\n",
      "2. Barry Warsaw: Warsaw is a long-time Python developer and maintainer, and has contributed significantly to the language's development and evolution.\n",
      "3. Nick Winter: Winter is a core developer and documentator for Python, and has been instrumental in the language's success.\n",
      "4. The Python Software Foundation (PSF): The PSF is a non-profit organization that promotes the development and use of Python, and provides resources and support for the Python community.\n",
      "\n",
      "Python has had a profound impact on the wider software development landscape. It has been used in a wide range of applications, from web development to data analysis, scientific computing, and machine learning. Python's ease of use, flexibility, and open-source nature have made it a popular choice for developers, researchers, and hobbyists alike.\n",
      "\n",
      "In recent years, Python has continued to evolve and adapt to contemporary technological advancements. For example, the introduction of Python 3.x, which includes support for asynchronous programming, has made it easier to build high-performance, scalable applications. Additionally, the development of libraries and frameworks, such as NumPy, pandas, and TensorFlow, has made Python a powerful tool for data analysis and machine learning.\n",
      "\n",
      "In conclusion, Python is a versatile programming language that has had a profound impact on the software development landscape. Its design philosophies and guiding principles, such as simplicity, readability, flexibility, portability, and open-source, have made it a popular choice for developers and researchers alike. The contributions of key individuals and organizations, such as Guido van Rossum, Barry Warsaw, and the Python Software Foundation, have shaped the language's evolution and ensured its continued success.\n",
      "1\n"
     ]
    }
   ],
   "source": [
    "print(ultra_feedback_cls_train_examples[0][\"instruction\"])\n",
    "print(ultra_feedback_cls_train_examples[0][\"label\"])"
   ]
  },
  {
   "cell_type": "code",
   "execution_count": 23,
   "id": "b662ce81-b961-4200-87ab-70dc5b18d745",
   "metadata": {},
   "outputs": [
    {
     "data": {
      "text/plain": [
       "{'conversations': [{'from': 'human',\n",
       "   'value': 'A squirrel will run across what to get from one gutter to another?\\nOptions:\\n- park\\n- forest\\n- chipmunk\\n- roof\\n- muddy water\\nPlease answer and provide answer explanation.'}],\n",
       " 'chosen': {'from': 'assistant',\n",
       "  'value': '[Question] A squirrel will run across what to get from one gutter to another?\\n[Answer] A squirrel will run across a roof to get from one gutter to another.\\n[Confidence]: 90%\\n[Explanation] Squirrels are known for their agility and ability to navigate different surfaces. When moving between gutters, a squirrel is most likely to use the roof as a platform to traverse from one gutter to another. This is because the roof provides a continuous pathway that connects the two gutters, whereas the other options (park, forest, chipmunk, and muddy water) do not offer such a direct or feasible route for a squirrel to travel along.'},\n",
       " 'rejected': {'from': 'assistant',\n",
       "  'value': 'In order to cross from one gutter to another, a squirrel will run across a chipmunk. Its answer is very confident at 90%.'}}"
      ]
     },
     "execution_count": 23,
     "metadata": {},
     "output_type": "execute_result"
    }
   ],
   "source": [
    "ultra_feedback_preference_pair_train_examples[0]"
   ]
  },
  {
   "cell_type": "code",
   "execution_count": null,
   "id": "0c27d633-16b4-4b28-9bb3-e4573057d71b",
   "metadata": {},
   "outputs": [],
   "source": []
  },
  {
   "cell_type": "markdown",
   "id": "716eca02-b4ac-410c-b526-8aef9c2fdfe7",
   "metadata": {},
   "source": [
    "## 2. UltraChat200K(SFT)\n",
    "path: https://hf-mirror.com/datasets/HuggingFaceH4/ultrachat_200k\n",
    "\n",
    "This data is used for sft or prompt sampling during iteration preference optimzation"
   ]
  },
  {
   "cell_type": "code",
   "execution_count": 106,
   "id": "d595a545-c3bc-45fe-8ba8-c00fd76c666d",
   "metadata": {},
   "outputs": [],
   "source": [
    "ultrachat_dir = \"./UltraChat200K/data/\""
   ]
  },
  {
   "cell_type": "code",
   "execution_count": 107,
   "id": "b4e4b5ae-4cd4-48b8-a6d4-978f953e0550",
   "metadata": {},
   "outputs": [],
   "source": [
    "def read_ultralchat_data(data_dir):\n",
    "    df_train1 = pd.read_parquet(os.path.join(data_dir, \"train_sft-00000-of-00003-a3ecf92756993583.parquet\"))\n",
    "    df_train2 = pd.read_parquet(os.path.join(data_dir, \"train_sft-00001-of-00003-0a1804bcb6ae68c6.parquet\"))\n",
    "    df_train3 = pd.read_parquet(os.path.join(data_dir, \"train_sft-00002-of-00003-ee46ed25cfae92c6.parquet\"))\n",
    "    df_train = json.loads(df_train1.to_json(orient='records')) + json.loads(df_train2.to_json(orient='records')) + json.loads(df_train3.to_json(orient='records'))\n",
    "    return df_train\n",
    "    \n",
    "ultralchat_train_data = read_ultralchat_data(ultrachat_dir)"
   ]
  },
  {
   "cell_type": "code",
   "execution_count": 108,
   "id": "da33f202-c7ef-48fd-af2e-1eab91a71eb0",
   "metadata": {},
   "outputs": [
    {
     "data": {
      "text/plain": [
       "{'prompt': \"These instructions apply to section-based themes (Responsive 6.0+, Retina 4.0+, Parallax 3.0+ Turbo 2.0+, Mobilia 5.0+). What theme version am I using?\\nOn your Collections pages & Featured Collections sections, you can easily show the secondary image of a product on hover by enabling one of the theme's built-in settings!\\nYour Collection pages & Featured Collections sections will now display the secondary product image just by hovering over that product image thumbnail.\\nDoes this feature apply to all sections of the theme or just specific ones as listed in the text material?\",\n",
       " 'prompt_id': 'f0e37e9f7800261167ce91143f98f511f768847236f133f2d0aed60b444ebe57',\n",
       " 'messages': [{'content': \"These instructions apply to section-based themes (Responsive 6.0+, Retina 4.0+, Parallax 3.0+ Turbo 2.0+, Mobilia 5.0+). What theme version am I using?\\nOn your Collections pages & Featured Collections sections, you can easily show the secondary image of a product on hover by enabling one of the theme's built-in settings!\\nYour Collection pages & Featured Collections sections will now display the secondary product image just by hovering over that product image thumbnail.\\nDoes this feature apply to all sections of the theme or just specific ones as listed in the text material?\",\n",
       "   'role': 'user'},\n",
       "  {'content': 'This feature only applies to Collection pages and Featured Collections sections of the section-based themes listed in the text material.',\n",
       "   'role': 'assistant'},\n",
       "  {'content': 'Can you guide me through the process of enabling the secondary image hover feature on my Collection pages and Featured Collections sections?',\n",
       "   'role': 'user'},\n",
       "  {'content': \"Sure, here are the steps to enable the secondary image hover feature on your Collection pages and Featured Collections sections:\\n\\n1. Log in to your Shopify account and go to your Online Store.\\n2. Click on Customize theme for the section-based theme you are using.\\n3. Navigate to the Collection pages or Featured Collections section where you want to enable the secondary image hover feature.\\n4. With the section open, click on the section's setting (gear) icon in the top-left corner.\\n5. In the settings panel that appears, look for an option labeled 'Image display' or 'Image hover'.\\n6. If available, select 'Show secondary image on hover'.\\n7. Save the changes and preview the Collection/Featured Collection page to see the effect.\\n\\nIf you're having trouble finding the setting, the best thing to do is refer to your theme's documentation, since the location and labeling of settings can vary between themes.\",\n",
       "   'role': 'assistant'},\n",
       "  {'content': 'Can you provide me with a link to the documentation for my theme?',\n",
       "   'role': 'user'},\n",
       "  {'content': \"I don't have access to your store's theme information. However, you can usually find the documentation for your theme by going to the shopify theme store, finding your theme and clicking on the 'support' link located in the bottom right corner of the page. Alternatively, you can do a google search for the name of your theme followed by 'documentation' or 'user guide'.\",\n",
       "   'role': 'assistant'},\n",
       "  {'content': 'Can you confirm if this feature also works for the Quick Shop section of my theme?',\n",
       "   'role': 'user'},\n",
       "  {'content': \"The secondary image hover feature may or may not work for your Quick Shop section, depending on the configuration of your theme. Some themes include this feature in the Quick Shop section by default, while others may require additional customization. To check if this feature is available for the Quick Shop section of your theme, follow these steps:\\n\\n1. Go to the Quick Shop section where you would like to enable the feature. 2. Click on the Quick Shop settings icon (gear icon) and look for 'Image display' or 'Image hover'. 3. If available, select 'Show secondary image on hover'. 4. Save the changes. If this option is not available in your Quick Shop section settings, you may need to reach out to your theme developer for assistance with customizing your Quick Shop section to include this feature.\",\n",
       "   'role': 'assistant'}]}"
      ]
     },
     "execution_count": 108,
     "metadata": {},
     "output_type": "execute_result"
    }
   ],
   "source": [
    "ultralchat_train_data[0]"
   ]
  },
  {
   "cell_type": "code",
   "execution_count": 109,
   "id": "67178676-c8d7-44b9-9364-436e7b8ca61f",
   "metadata": {},
   "outputs": [
    {
     "name": "stderr",
     "output_type": "stream",
     "text": [
      "100%|██████████| 207865/207865 [00:00<00:00, 268920.71it/s]\n"
     ]
    }
   ],
   "source": [
    "def construct_ultrachat_examples(examples):\n",
    "    \"\"\"\n",
    "    The ultrachat is multi-turn conversation. We only maintain the first turn.\n",
    "    output:\n",
    "    {\n",
    "        \"messages\": [\n",
    "            {\"role\": \"user\", \"content\": \"xxx\"},\n",
    "        ],\n",
    "        \"reference\": {\"role\": \"assistant\", \"content\": \"xxx\"},\n",
    "        \"from\": \"xxx\",\n",
    "    }\n",
    "    \"\"\"\n",
    "    all_examples = list()\n",
    "    for example in tqdm(examples):\n",
    "        all_examples.append({\n",
    "            \"messages\": [\n",
    "                {\"role\": \"user\", \"content\": example[\"messages\"][0][\"content\"]},\n",
    "            ],\n",
    "            \"reference\": {\"role\": \"assistant\", \"content\": example[\"messages\"][1][\"content\"]},\n",
    "            \"from\": \"ultrachat200k\"\n",
    "        })\n",
    "    return all_examples\n",
    "ultrachat_sft_examples = construct_ultrachat_examples(ultrachat_train_data)\n"
   ]
  },
  {
   "cell_type": "code",
   "execution_count": 110,
   "id": "fb228efc-6e3e-427b-8b5f-a481805a0faa",
   "metadata": {},
   "outputs": [
    {
     "data": {
      "text/plain": [
       "{'messages': [{'role': 'user',\n",
       "   'content': \"These instructions apply to section-based themes (Responsive 6.0+, Retina 4.0+, Parallax 3.0+ Turbo 2.0+, Mobilia 5.0+). What theme version am I using?\\nOn your Collections pages & Featured Collections sections, you can easily show the secondary image of a product on hover by enabling one of the theme's built-in settings!\\nYour Collection pages & Featured Collections sections will now display the secondary product image just by hovering over that product image thumbnail.\\nDoes this feature apply to all sections of the theme or just specific ones as listed in the text material?\"}],\n",
       " 'reference': {'role': 'assistant',\n",
       "  'content': 'This feature only applies to Collection pages and Featured Collections sections of the section-based themes listed in the text material.'},\n",
       " 'from': 'ultrachat200k'}"
      ]
     },
     "execution_count": 110,
     "metadata": {},
     "output_type": "execute_result"
    }
   ],
   "source": [
    "ultrachat_sft_examples[0]"
   ]
  },
  {
   "cell_type": "markdown",
   "id": "51832da8-b9d5-42aa-b657-c16f8ddbbe06",
   "metadata": {},
   "source": [
    "## 3. EvolInstruct(SFT)\n",
    "path: https://hf-mirror.com/datasets/WizardLMTeam/WizardLM_evol_instruct_V2_196k\n",
    "\n",
    "This data is used for sft or prompt sampling during iteration preference optimzation"
   ]
  },
  {
   "cell_type": "code",
   "execution_count": 111,
   "id": "111480f1-1054-4758-a889-7444c0beb22c",
   "metadata": {},
   "outputs": [],
   "source": [
    "evolinstruct_dir = \"./EvolInstruct\""
   ]
  },
  {
   "cell_type": "code",
   "execution_count": 112,
   "id": "7b79f399-bfce-4fc3-967b-d75aa5af0908",
   "metadata": {},
   "outputs": [],
   "source": [
    "def read_evolinstruct_data(data_dir):\n",
    "    examples = list()\n",
    "    with open(os.path.join(data_dir, \"WizardLM_evol_instruct_V2_143k.json\"), \"r\", encoding=\"utf-8\") as fr:\n",
    "        examples = json.load(fr)\n",
    "    return examples\n",
    "evolinstruct_train_data = read_evolinstruct_data(evolinstruct_dir)"
   ]
  },
  {
   "cell_type": "code",
   "execution_count": 113,
   "id": "f9dbb85b-72c7-4d56-ad8a-254ed2187f51",
   "metadata": {},
   "outputs": [
    {
     "name": "stderr",
     "output_type": "stream",
     "text": [
      "100%|██████████| 143000/143000 [00:00<00:00, 689594.07it/s]\n"
     ]
    }
   ],
   "source": [
    "def construct_evolinstruct_examples(examples):\n",
    "    \"\"\"\n",
    "    output:\n",
    "    {\n",
    "        \"messages\": [\n",
    "            {\"role\": \"user\", \"content\": \"xxx\"},\n",
    "        ],\n",
    "        \"reference\": {\"role\": \"assistant\", \"content\": \"xxx\"},,\n",
    "        \"from\": \"xxx\"\n",
    "    }\n",
    "    \"\"\"\n",
    "    all_examples = list()\n",
    "    for example in tqdm(examples):\n",
    "        all_examples.append({\n",
    "            \"messages\": [\n",
    "                {\"role\": \"user\", \"content\": example[\"conversations\"][0][\"value\"]},\n",
    "            ],\n",
    "            \"reference\": {\"role\": \"assistant\", \"content\": example[\"conversations\"][1][\"value\"]},\n",
    "            \"from\": \"evolinstruct\"\n",
    "        })\n",
    "    return all_examples\n",
    "evolinstruct_sft_examples = construct_evolinstruct_examples(evolinstruct_train_data)\n"
   ]
  },
  {
   "cell_type": "code",
   "execution_count": 114,
   "id": "7e9b8c6e-53ff-49db-973f-b0c583fc82a5",
   "metadata": {},
   "outputs": [
    {
     "data": {
      "text/plain": [
       "{'messages': [{'role': 'user',\n",
       "   'content': 'As an online platform teacher named Aimee, you possess impeccable credentials which include a Bachelor of Science degree in Industrial and Labor Relations from Cornell University, expertise in the English language, and intermediate proficiency in both Chinese and Spanish. Additionally, your professional experience as a STEAM teacher at UN Women in Singapore has honed your skills in teaching children from the ages of 6-11 and working with students from all levels of education. Your exceptional teaching abilities in spoken English and pronunciation paired with your personal strengths of being informed, patient, and engaging make you an ideal teacher for students seeking to improve their English language skills. Can you provide a short, concise, and unique English self-introduction in bullet point form that would attract students to enroll in your course?'}],\n",
       " 'reference': {'role': 'assistant',\n",
       "  'content': \"Sure, here are some bullet points for your English self-introduction:\\n\\n- Hi there! My name is Aimee and I'm thrilled to be your online English teacher!\\n- With a Bachelor's degree from Cornell University and experience teaching STEAM at UN Women in Singapore, I know how to help students learn effectively.\\n- I'm passionate about language and have intermediate proficiency in both Chinese and Spanish, so I understand the challenges of learning a new language.\\n- In my classes, I focus on improving spoken English and pronunciation, as well as building vocabulary and grammar skills.\\n- But learning English doesn't have to be boring! I'm an engaging and patient teacher who loves to have fun and make learning enjoyable.\\n- So, whether you're a beginner or an advanced student, I'm confident that I can help you improve your English skills and achieve your goals. Let's get started!\"},\n",
       " 'from': 'evolinstruct'}"
      ]
     },
     "execution_count": 114,
     "metadata": {},
     "output_type": "execute_result"
    }
   ],
   "source": [
    "evolinstruct_sft_examples[0]"
   ]
  },
  {
   "cell_type": "markdown",
   "id": "3521b941-4b93-40d5-85ce-9dbe38353d1f",
   "metadata": {},
   "source": [
    "## 4. ShareGPT(SFT)\n",
    "path: https://hf-mirror.com/datasets/shibing624/sharegpt_gpt4\n",
    "\n",
    "This data is used for sft or prompt sampling during iteration preference optimzation"
   ]
  },
  {
   "cell_type": "code",
   "execution_count": 115,
   "id": "79eca4b5-40f9-4ddb-8f24-dfdd37459ea2",
   "metadata": {},
   "outputs": [],
   "source": [
    "sharegpt_dir = \"./ShareGPT/\""
   ]
  },
  {
   "cell_type": "code",
   "execution_count": 116,
   "id": "cfd6c642-5cb7-4ff9-96d0-199c9428357c",
   "metadata": {},
   "outputs": [
    {
     "name": "stderr",
     "output_type": "stream",
     "text": [
      "100%|██████████| 6206/6206 [00:00<00:00, 9742.42it/s] \n",
      "100%|██████████| 58674/58674 [00:03<00:00, 18296.86it/s]\n"
     ]
    }
   ],
   "source": [
    "def read_sharegpt_data(data_dir):\n",
    "    examples = list()\n",
    "    with open(os.path.join(data_dir, \"sharegpt_gpt4.jsonl\"), \"r\", encoding=\"utf-8\") as fr:\n",
    "        for line in tqdm(fr.readlines()):\n",
    "            examples.append(json.loads(line))\n",
    "    with open(os.path.join(data_dir, \"sharegpt_V3_format.jsonl\"), \"r\", encoding=\"utf-8\") as fr:\n",
    "        for line in tqdm(fr.readlines()):\n",
    "            examples.append(json.loads(line))\n",
    "    # with open(os.path.join(data_dir, \"sharegpt_zh_38K_format.jsonl\"), \"r\", encoding=\"utf-8\") as fr:\n",
    "    #     for line in tqdm(fr.readlines()):\n",
    "    #         examples.append(json.loads(line))\n",
    "    return examples\n",
    "sharegpt_train_data = read_sharegpt_data(sharegpt_dir)"
   ]
  },
  {
   "cell_type": "code",
   "execution_count": 117,
   "id": "d3e6a789-d365-4582-b7b6-63bed91a1d79",
   "metadata": {},
   "outputs": [
    {
     "name": "stderr",
     "output_type": "stream",
     "text": [
      "100%|██████████| 64880/64880 [00:00<00:00, 609447.97it/s]\n"
     ]
    }
   ],
   "source": [
    "def construct_sharegpt_examples(examples):\n",
    "    \"\"\"\n",
    "    output:\n",
    "    {\n",
    "        \"messages\": [\n",
    "            {\"role\": \"user\", \"content\": \"xxx\"},\n",
    "        ],\n",
    "        \"reference\": {\"role\": \"assistant\", \"content\": \"xxx\"},,\n",
    "        \"from\": \"xxx\"\n",
    "    }\n",
    "    \"\"\"\n",
    "    all_examples = list()\n",
    "    for example in tqdm(examples):\n",
    "        all_examples.append({\n",
    "            \"messages\": [\n",
    "                {\"role\": \"user\", \"content\": example[\"conversations\"][0][\"value\"]},\n",
    "            ],\n",
    "            \"reference\": {\"role\": \"assistant\", \"content\": example[\"conversations\"][1][\"value\"]},\n",
    "            \"from\": \"sharegpt\"\n",
    "        })\n",
    "    return all_examples\n",
    "sharegpt_sft_examples = construct_sharegpt_examples(sharegpt_train_data)\n"
   ]
  },
  {
   "cell_type": "code",
   "execution_count": 119,
   "id": "34463b77-77f9-4e59-9716-6e7cfe504e0a",
   "metadata": {},
   "outputs": [
    {
     "name": "stderr",
     "output_type": "stream",
     "text": [
      "100%|██████████| 207865/207865 [00:00<00:00, 597987.48it/s]\n",
      "100%|██████████| 143000/143000 [00:00<00:00, 1333680.52it/s]\n",
      "100%|██████████| 64880/64880 [00:00<00:00, 1489259.57it/s]\n"
     ]
    },
    {
     "name": "stdout",
     "output_type": "stream",
     "text": [
      "num before process: 415745\n",
      "num after process: 408954\n"
     ]
    }
   ],
   "source": [
    "## 汇总所有SFT数据，并进行过滤\n",
    "def preprocess_sft_data(all_examples_list):\n",
    "    all_sft_examples = list()\n",
    "    num_before = 0\n",
    "    for examples in all_examples_list:\n",
    "        for example in tqdm(examples):\n",
    "            num_before += 1\n",
    "            # 如果assistant的↩️太短了，则去除\n",
    "            if len(example[\"reference\"][\"content\"]) < 50:\n",
    "                continue\n",
    "            all_sft_examples.append(example)\n",
    "    print(\"num before process:\", num_before)\n",
    "    print(\"num after process:\", len(all_sft_examples))\n",
    "    return all_sft_examples\n",
    "\n",
    "all_sft_examples = preprocess_sft_data([\n",
    "    ultrachat_sft_examples, evolinstruct_sft_examples, sharegpt_sft_examples\n",
    "])"
   ]
  },
  {
   "cell_type": "code",
   "execution_count": 120,
   "id": "36f5dfa5-9a0d-4dab-8781-d5e1082b845e",
   "metadata": {},
   "outputs": [
    {
     "data": {
      "text/plain": [
       "{'messages': [{'role': 'user',\n",
       "   'content': \"These instructions apply to section-based themes (Responsive 6.0+, Retina 4.0+, Parallax 3.0+ Turbo 2.0+, Mobilia 5.0+). What theme version am I using?\\nOn your Collections pages & Featured Collections sections, you can easily show the secondary image of a product on hover by enabling one of the theme's built-in settings!\\nYour Collection pages & Featured Collections sections will now display the secondary product image just by hovering over that product image thumbnail.\\nDoes this feature apply to all sections of the theme or just specific ones as listed in the text material?\"}],\n",
       " 'reference': {'role': 'assistant',\n",
       "  'content': 'This feature only applies to Collection pages and Featured Collections sections of the section-based themes listed in the text material.'},\n",
       " 'from': 'ultrachat200k'}"
      ]
     },
     "execution_count": 120,
     "metadata": {},
     "output_type": "execute_result"
    }
   ],
   "source": [
    "all_sft_examples[0]"
   ]
  },
  {
   "cell_type": "markdown",
   "id": "b0215ee0-8a11-4996-a9a7-5922d188c4bf",
   "metadata": {},
   "source": [
    "**save all sft examples as sampling prompt set during iteration preference optimzation**"
   ]
  },
  {
   "cell_type": "code",
   "execution_count": 121,
   "id": "57a49dd1-414d-4cd8-8e34-94fd88345c11",
   "metadata": {},
   "outputs": [
    {
     "name": "stderr",
     "output_type": "stream",
     "text": [
      "100%|██████████| 408954/408954 [00:50<00:00, 8086.34it/s] \n"
     ]
    }
   ],
   "source": [
    "if not os.path.exists(\"./prompt_set\"):\n",
    "    os.makedirs(\"./prompt_set\")\n",
    "with open(\"./prompt_set/all_sft_prompt_data.json\", \"w\", encoding=\"utf-8\") as fw:\n",
    "    for example in tqdm(all_sft_examples):\n",
    "        fw.write(json.dumps(example, ensure_ascii=False) + \"\\n\")"
   ]
  },
  {
   "cell_type": "markdown",
   "id": "0ecb52f3-6a1d-4ed3-b20e-07143e52702e",
   "metadata": {},
   "source": [
    "## Sampling for each iteration stage\n",
    "Next, we can directly sample for some prompts for each iteration stage.\n",
    "- the iteration num is fixed as 3;\n",
    "- each iteration, we random sample 25k from sft examples and sample 10k from ultrafeedback prompt-chosen data, which similar to SPIN."
   ]
  },
  {
   "cell_type": "code",
   "execution_count": 122,
   "id": "ea03a536-9ee9-473e-8eda-e3bfebb3175e",
   "metadata": {},
   "outputs": [
    {
     "name": "stderr",
     "output_type": "stream",
     "text": [
      "100%|██████████| 61135/61135 [00:00<00:00, 264482.04it/s]\n"
     ]
    }
   ],
   "source": [
    "# obtain sft examples from ultrafeedback\n",
    "ultrafeedback_sft_examples = list()\n",
    "for example in tqdm(ultra_feedback_preference_pair_train_examples):\n",
    "    ultrafeedback_sft_examples.append({\n",
    "        \"messages\": [\n",
    "            {\"role\": \"user\", \"content\": example[\"conversations\"][0][\"value\"]},\n",
    "        ],\n",
    "        \"reference\": {\"role\": \"assistant\", \"content\": example[\"chosen\"][\"value\"]},\n",
    "        \"from\": \"ultrafeedback\"\n",
    "    })"
   ]
  },
  {
   "cell_type": "code",
   "execution_count": 123,
   "id": "66c8eb86-ef97-4372-a838-3343f1a5949c",
   "metadata": {},
   "outputs": [
    {
     "data": {
      "text/plain": [
       "{'messages': [{'role': 'user',\n",
       "   'content': 'A squirrel will run across what to get from one gutter to another?\\nOptions:\\n- park\\n- forest\\n- chipmunk\\n- roof\\n- muddy water\\nPlease answer and provide answer explanation.'}],\n",
       " 'reference': {'role': 'assistant',\n",
       "  'content': '[Question] A squirrel will run across what to get from one gutter to another?\\n[Answer] A squirrel will run across a roof to get from one gutter to another.\\n[Confidence]: 90%\\n[Explanation] Squirrels are known for their agility and ability to navigate different surfaces. When moving between gutters, a squirrel is most likely to use the roof as a platform to traverse from one gutter to another. This is because the roof provides a continuous pathway that connects the two gutters, whereas the other options (park, forest, chipmunk, and muddy water) do not offer such a direct or feasible route for a squirrel to travel along.'},\n",
       " 'from': 'ultrafeedback'}"
      ]
     },
     "execution_count": 123,
     "metadata": {},
     "output_type": "execute_result"
    }
   ],
   "source": [
    "ultrafeedback_sft_examples[0]"
   ]
  },
  {
   "cell_type": "code",
   "execution_count": 124,
   "id": "bfd97a0d-8139-4fed-a8dd-6a0e516674b1",
   "metadata": {},
   "outputs": [
    {
     "name": "stderr",
     "output_type": "stream",
     "text": [
      "100%|██████████| 35000/35000 [00:02<00:00, 12252.94it/s]\n",
      "100%|██████████| 35000/35000 [00:03<00:00, 10789.77it/s]\n",
      "100%|██████████| 35000/35000 [00:05<00:00, 6697.22it/s]\n"
     ]
    }
   ],
   "source": [
    "iteration_stage_num = 3\n",
    "sampling_sft_num = 25000\n",
    "sampling_preference_num = 10000\n",
    "\n",
    "if not os.path.exists(\"./prompt_set\"):\n",
    "    os.makedirs(\"./prompt_set\")\n",
    "\n",
    "for stage_id in range(iteration_stage_num):\n",
    "    # random sample sft\n",
    "    shuffle(all_sft_examples)\n",
    "    selected_sft_examples = all_sft_examples[:sampling_sft_num]\n",
    "    # random sample ultrafeedback\n",
    "    shuffle(ultrafeedback_sft_examples)\n",
    "    selected_sft_examples = selected_sft_examples + ultrafeedback_sft_examples[:sampling_preference_num]\n",
    "    shuffle(selected_sft_examples)\n",
    "    with open(f\"./prompt_set/sampled_prompt_data_for_iter{stage_id + 1}.json\", \"w\", encoding=\"utf-8\") as fw:\n",
    "        for example in tqdm(selected_sft_examples):\n",
    "            fw.write(json.dumps(example, ensure_ascii=False) + \"\\n\")"
   ]
  },
  {
   "cell_type": "markdown",
   "id": "930e8d1a-8da6-412b-b02d-3db7efcdfb76",
   "metadata": {},
   "source": [
    "# Chap2: Math Reasoning"
   ]
  },
  {
   "cell_type": "markdown",
   "id": "780756ea-8117-48bc-8f45-0438a29d3185",
   "metadata": {},
   "source": [
    "## 1. Math Step-DPO"
   ]
  },
  {
   "cell_type": "code",
   "execution_count": 189,
   "id": "5af63c52-22e2-4b9b-9666-633071fd9960",
   "metadata": {},
   "outputs": [],
   "source": [
    "math_step_dpo_path = \"./MathStepDPO10k/data/\""
   ]
  },
  {
   "cell_type": "code",
   "execution_count": 190,
   "id": "4025efd4-f78b-4805-9bd0-db6f783c30c1",
   "metadata": {},
   "outputs": [],
   "source": [
    "def read_mathstepdpo_data(data_dir):\n",
    "    df_train = pd.read_parquet(os.path.join(data_dir, \"train-00000-of-00001.parquet\"))\n",
    "    df_train = json.loads(df_train.to_json(orient='records'))\n",
    "    return df_train\n",
    "    \n",
    "mathstepdpo_train_data = read_mathstepdpo_data(math_step_dpo_path)"
   ]
  },
  {
   "cell_type": "code",
   "execution_count": 191,
   "id": "19313043-e320-4089-a516-1f116f681479",
   "metadata": {},
   "outputs": [
    {
     "data": {
      "text/plain": [
       "{'full_rejected': ' Find the dates when the shoe store has a sale.\\nThe shoe store has a sale every 6 days. If they have a sale on July 3, then they will have a sale on July 3 + 6 = 9, 15, 21, 27, 33, 39, 45, 51, 57.\\n\\nStep 2: Find the dates when the bookstore has a sale.\\nThe bookstore has a sale on days that are multiples of 5. So the dates when the bookstore has a sale are 5, 10, 15, 20, 25, 30, 35, 40, 45, 50, 55, 60.\\n\\nStep 3: Find the dates when both stores have sales on the same date.\\nWe need to find the dates that are in both lists. Those dates are 15 and 45.\\n\\nSo, both stores have sales on the same date 2 times in July.\\nThe answer is: 2',\n",
       " 'initial_reason_steps': \"Let's think step by step. \\nStep 1:\",\n",
       " 'prompt': 'In the month of July, the bookstore has a sale on days that are multiples of 5, and the shoe store has a sale every 6 days. If the shoe store has a sale on July 3, how many times in July do both stores have sales on the same date?',\n",
       " 'chosen': ' Find the dates on which both stores have sales.\\nThe bookstore has a sale on days that are multiples of 5. So the dates are 5, 10, 15, 20, 25, 30 (for July).\\nThe shoe store has a sale every 6 days. If it has a sale on July 3, then the next sale will be on July 9, then on July 15, and so on. So the dates of its sales are 3, 9, 15, 21, 27.',\n",
       " 'full_chosen': ' Find the dates on which both stores have sales.\\nThe bookstore has a sale on days that are multiples of 5. So the dates are 5, 10, 15, 20, 25, 30 (for July).\\nThe shoe store has a sale every 6 days. If it has a sale on July 3, then the next sale will be on July 9, then on July 15, and so on. So the dates of its sales are 3, 9, 15, 21, 27.\\nStep 2: Find the dates when both stores have sales on the same date.\\nBy comparing the two lists of dates, we see that both stores have sales on the same date on July 15.\\nSo, both stores have sales on the same date only once in July.\\nThe answer is: 1',\n",
       " 'rejected': ' Find the dates when the shoe store has a sale.\\nThe shoe store has a sale every 6 days. If they have a sale on July 3, then they will have a sale on July 3 + 6 = 9, 15, 21, 27, 33, 39, 45, 51, 57.',\n",
       " 'dataset': 'MATH_Rephrased',\n",
       " 'answer': '1'}"
      ]
     },
     "execution_count": 191,
     "metadata": {},
     "output_type": "execute_result"
    }
   ],
   "source": [
    "mathstepdpo_train_data[0]"
   ]
  },
  {
   "cell_type": "code",
   "execution_count": 229,
   "id": "633ff4d9-1992-4680-b67d-a7135ee91e31",
   "metadata": {},
   "outputs": [
    {
     "name": "stderr",
     "output_type": "stream",
     "text": [
      "100%|██████████| 10795/10795 [00:00<00:00, 127429.93it/s]"
     ]
    },
    {
     "name": "stdout",
     "output_type": "stream",
     "text": [
      "len(mathstepdpo_preference_pair_train_examples)= 10795\n"
     ]
    },
    {
     "name": "stderr",
     "output_type": "stream",
     "text": [
      "\n"
     ]
    }
   ],
   "source": [
    "def preprocess_math_stepdpo(examples):\n",
    "    \"\"\"\n",
    "    Construct pair-wise data for preference optimzation\n",
    "    return :the structure of example:\n",
    "    \n",
    "      {\n",
    "        \"conversations\": [\n",
    "          {\n",
    "            \"from\": \"system\",\n",
    "            \"value\": \"You are a teacher. Given a task, you explain in simple steps what the task is asking, any guidelines it provides and how to use those guidelines to find the answer.\"\n",
    "          },\n",
    "          {\n",
    "            \"from\": \"human\",\n",
    "            \"value\": \"Q: In this task, you need to provide the parts-of-speech tag of a word present in a sentence specified within curly braces  ( '{{ ... }}' ). The parts-of-speech tags are coarse labels that represent a category of words with similar grammatical properties. The list of part-of-speech tags i.e tagset of this corpus is - \\n '.': Period symbol is used for symbols denoting Punctuations/Separations such as comma, period, backticks etc., \\n 'ADJ': Adjectives are words that typically modify nouns and specify their properties or attributes, \\n 'ADP': Adposition is a cover term for prepositions and postpositions, \\n 'ADV': Adverbs are words that typically modify verbs for such categories as time, place, direction or manner, \\n 'CONJ': A word used to connect clauses or sentences or to coordinate words in the same clause, \\n 'DET': Determiners are words that modify nouns or noun phrases and express the reference of the noun phrase in context, \\n 'NOUN': Nouns are a part of speech typically denoting a person, place, thing, animal or idea, \\n 'NUM': A numeral is a word, functioning most typically as a determiner, adjective or pronoun, that expresses a number and a relation to the number, such as quantity, sequence, frequency or fraction, \\n 'PRT': Particles are function words that must be associated with another word or phrase to impart meaning and that do not satisfy definitions of other universal parts of speech, \\n 'PRON': Pronouns are words that substitute for nouns or noun phrases, whose meaning is recoverable from the linguistic or extralinguistic context, \\n 'PROPN': A proper noun is a noun (or nominal content word) that is the name (or part of the name) of a specific individual, place, or object, \\n 'VERB': A verb is a member of the syntactic class of words that typically signal events and actions, can constitute a minimal predicate in a clause, and govern the number and types of other constituents which may occur in the clause, \\n 'X': The tag X is used for words that for some reason cannot be assigned a real part-of-speech category.\\nSentence: `` I'm not worried about it '' , Phil said {{ . }} \\nWord: .\\nA:\"\n",
    "          }\n",
    "        ],\n",
    "        \"chosen\": {\n",
    "          \"from\": \"assistant\",\n",
    "          \"value\": \"In this task, you are asked to identify the part-of-speech (POS) tag for a word in a given sentence. The word is specified within curly braces ({{...}}). The corpus follows a predefined tagset that indicates different parts-of-speech categories.\\n\\nTo complete this task:\\n\\n1. Carefully read the list of part-of-speech tags provided.\\n2. Analyze the sentence given, paying attention to the word within the curly braces: \\\"{{ . }}\\\"\\n3. Look through the tagset and determine which tag best fits the word within the curly braces.\\n4. Provide the appropriate part-of-speech tag for the word.\\n\\nFor the given sentence: \\\"I'm not worried about it\\\", Phil said {{ . }}\\nWord: .\\n\\nUsing the guidelines, we can see that the word '.' is a punctuation symbol. According to the tagset:\\n'.': Period symbol is used for symbols denoting Punctuations/Separations such as comma, period, backticks, etc.\\n\\nSo, the part-of-speech tag for the word '.' is: '.'\"\n",
    "        },\n",
    "        \"rejected\": {\n",
    "          \"from\": \"assistant\",\n",
    "          \"value\": \"Sure, I'd be happy to help! Here are the steps to find the part of speech of the word in the given sentence:\\n\\nStep 1: Read the sentence and identify the word you want to find the part of speech for. In this case, the word is \\\"it\\\".\\n\\nStep 2: Look at the list of part-of-speech tags provided in the task. In this case, we have the following tags:\\n\\n'.': Period symbol (punctuation)\\nADJ: Adjective\\nADP: Adposition (preposition or postposition)\\nADV: Adverb\\nCONJ: Conjunction\\nDET: Determiner\\nNOUN: Noun\\nNUM: Numeral\\nPRT: Particle\\nPRON: Pronoun\\nPROPN: Proper noun\\nVERB: Verb\\nX: Unclassified word (for words that cannot be assigned a real part-of-speech category)\\n\\nStep 3: Look at the word \\\"it\\\" in the sentence and determine which category it best fits into. In this case, \\\"it\\\" is a pronoun, so the part of speech is PRON.\\n\\nTherefore, the part of speech of the word \\\"it\\\" in the sentence \\\"I'm not worried about it\\\", Phil said is PRON.\"\n",
    "        }\n",
    "      }\n",
    "    \"\"\"\n",
    "    preference_pair_examples = list()\n",
    "    for example in tqdm(examples):\n",
    "        prompt = example[\"prompt\"]\n",
    "        initial_reason_steps = example[\"initial_reason_steps\"]\n",
    "        chosen_response = initial_reason_steps + example[\"full_chosen\"]\n",
    "        rejected_response = initial_reason_steps + example[\"full_rejected\"]\n",
    "        preference_pair_examples.append({\n",
    "            \"conversations\": [{\n",
    "                \"from\": \"human\",\n",
    "                \"value\": prompt + \"\\nPlease reason step by step, and put your final answer within \\\\boxed{{}}\",\n",
    "            }],\n",
    "            \"chosen\": {\n",
    "                \"from\": \"assistant\",\n",
    "                \"value\": chosen_response,\n",
    "            },\n",
    "            \"rejected\": {\n",
    "                \"from\": \"assistant\",\n",
    "                \"value\": rejected_response,\n",
    "            }\n",
    "        })\n",
    "        \n",
    "    return preference_pair_examples\n",
    "        \n",
    "mathstepdpo_preference_pair_train_examples = preprocess_math_stepdpo(mathstepdpo_train_data)\n",
    "\n",
    "\n",
    "print(\"len(mathstepdpo_preference_pair_train_examples)=\", len(mathstepdpo_preference_pair_train_examples))\n"
   ]
  },
  {
   "cell_type": "code",
   "execution_count": 230,
   "id": "84695e2a-2138-4cfa-ad81-26874e067c65",
   "metadata": {},
   "outputs": [
    {
     "data": {
      "text/plain": [
       "{'conversations': [{'from': 'human',\n",
       "   'value': 'In the month of July, the bookstore has a sale on days that are multiples of 5, and the shoe store has a sale every 6 days. If the shoe store has a sale on July 3, how many times in July do both stores have sales on the same date?\\nPlease reason step by step, and put your final answer within \\\\boxed{{}}'}],\n",
       " 'chosen': {'from': 'assistant',\n",
       "  'value': \"Let's think step by step. \\nStep 1: Find the dates on which both stores have sales.\\nThe bookstore has a sale on days that are multiples of 5. So the dates are 5, 10, 15, 20, 25, 30 (for July).\\nThe shoe store has a sale every 6 days. If it has a sale on July 3, then the next sale will be on July 9, then on July 15, and so on. So the dates of its sales are 3, 9, 15, 21, 27.\\nStep 2: Find the dates when both stores have sales on the same date.\\nBy comparing the two lists of dates, we see that both stores have sales on the same date on July 15.\\nSo, both stores have sales on the same date only once in July.\\nThe answer is: 1\"},\n",
       " 'rejected': {'from': 'assistant',\n",
       "  'value': \"Let's think step by step. \\nStep 1: Find the dates when the shoe store has a sale.\\nThe shoe store has a sale every 6 days. If they have a sale on July 3, then they will have a sale on July 3 + 6 = 9, 15, 21, 27, 33, 39, 45, 51, 57.\\n\\nStep 2: Find the dates when the bookstore has a sale.\\nThe bookstore has a sale on days that are multiples of 5. So the dates when the bookstore has a sale are 5, 10, 15, 20, 25, 30, 35, 40, 45, 50, 55, 60.\\n\\nStep 3: Find the dates when both stores have sales on the same date.\\nWe need to find the dates that are in both lists. Those dates are 15 and 45.\\n\\nSo, both stores have sales on the same date 2 times in July.\\nThe answer is: 2\"}}"
      ]
     },
     "execution_count": 230,
     "metadata": {},
     "output_type": "execute_result"
    }
   ],
   "source": [
    "mathstepdpo_preference_pair_train_examples[0]"
   ]
  },
  {
   "cell_type": "code",
   "execution_count": 231,
   "id": "7563c35a-aa88-47a6-bb00-6fbbe141ab47",
   "metadata": {},
   "outputs": [
    {
     "name": "stderr",
     "output_type": "stream",
     "text": [
      "100%|██████████| 10795/10795 [00:00<00:00, 176170.92it/s]"
     ]
    },
    {
     "name": "stdout",
     "output_type": "stream",
     "text": [
      "len(mathstepdpo_cls_train_examples)= 21590\n"
     ]
    },
    {
     "name": "stderr",
     "output_type": "stream",
     "text": [
      "\n"
     ]
    }
   ],
   "source": [
    "def obtain_cls_from_preference_pair_mathstepdpo(examples):\n",
    "    \"\"\"\n",
    "    Construct cls style for preference optimzation\n",
    "    input: mathstepdpo_preference_pair_train_examples\n",
    "    return :the structure of example:\n",
    "    \n",
    "      {\n",
    "        \"instruction\": \"You are a good preference labeler. Give you one query from human and two candidate responses answered by the same assistant, your job is to find the better response which is more accurate, helpful, harmless for the human query.\\n\\nQ: xxx\\n\\n\\nResponse #1: \\n\\n\\nReponse #2\",\n",
    "        \"label\": 0\n",
    "      }\n",
    "    \n",
    "    \n",
    "    \"\"\"\n",
    "    mathstepdpo_cls_examples = list()\n",
    "    for example in tqdm(examples):\n",
    "        accepted, rejected = example[\"chosen\"][\"value\"], example[\"rejected\"][\"value\"]\n",
    "        query = example[\"conversations\"][0][\"value\"]\n",
    "        mathstepdpo_cls_examples.append({\n",
    "            \"instruction\": f\"You are a good preference labeler. Give you one query from human and two candidate responses answered by the same assistant, your job is to find the better response which is more accurate, helpful, harmless for the human query.\\n\\nQ: {query}\\n\\n\\nResponse #1: {accepted} \\n\\n\\nReponse #2: {rejected}\",\n",
    "            \"label\": 0\n",
    "        })\n",
    "        mathstepdpo_cls_examples.append({\n",
    "            \"instruction\": f\"You are a good preference labeler. Give you one query from human and two candidate responses answered by the same assistant, your job is to find the better response which is more accurate, helpful, harmless for the human query.\\n\\nQ: {query}\\n\\n\\nResponse #1: {rejected} \\n\\n\\nReponse #2: {accepted}\",\n",
    "            \"label\": 1\n",
    "        })\n",
    "    shuffle(mathstepdpo_cls_examples)\n",
    "    return mathstepdpo_cls_examples\n",
    "mathstepdpo_cls_train_examples = obtain_cls_from_preference_pair_mathstepdpo(mathstepdpo_preference_pair_train_examples)\n",
    "\n",
    "print(\"len(mathstepdpo_cls_train_examples)=\", len(mathstepdpo_cls_train_examples))\n"
   ]
  },
  {
   "cell_type": "code",
   "execution_count": 232,
   "id": "f1336db9-f011-4d90-abcd-1ff10e7c983c",
   "metadata": {},
   "outputs": [
    {
     "name": "stdout",
     "output_type": "stream",
     "text": [
      "You are a good preference labeler. Give you one query from human and two candidate responses answered by the same assistant, your job is to find the better response which is more accurate, helpful, harmless for the human query.\n",
      "\n",
      "Q: The product of the squares of two positive integers is 900. How many pairs of positive integers satisfy this condition?\n",
      "Please reason step by step, and put your final answer within \\boxed{{}}\n",
      "\n",
      "\n",
      "Response #1: Let's think step by step.\n",
      "Step 1: 900 can be factored into prime factors. The prime factorization of 900 is $2^2 \\cdot 3^2 \\cdot 5^2$.\n",
      "\n",
      "Step 2: The product of the squares of two positive integers can be written as $(a^2)(b^2) = (ab)^2$. So, the positive integer whose square is 900 must be the square root of 900, which is $\\sqrt{900} = 30$.\n",
      "\n",
      "Step 3: Now we need to find the pairs of positive integers $(a, b)$ such that $ab = 30$.\n",
      "\n",
      "The pairs of positive integers that multiply to give 30 are (1, 30), (2, 15), (3, 10), (5, 6). So, there are 4 pairs of positive integers that satisfy the condition.\n",
      "The answer is: 4 \n",
      "\n",
      "\n",
      "Reponse #2: Let's think step by step.\n",
      "Step 1: 900 can be factored into prime factors. The prime factorization of 900 is $2^2 \\cdot 3^2 \\cdot 5^2$.\n",
      "\n",
      "Step 2: The product of the squares of two positive integers is 900, so these two integers must be the square roots of the factors of 900.\n",
      "\n",
      "Step 3: The square roots of 900's factors are the possible pairs of integers. The pairs are: (1, 30), (2, 15), (3, 10), (5, 6), and their reverses (30, 1), (15, 2), (10, 3), (6, 5).\n",
      "\n",
      "Step 4: Count the number of pairs. There are 8 pairs in total.\n",
      "\n",
      "Therefore, there are 8 pairs of positive integers that satisfy the condition.\n",
      "The answer is: 8\n",
      "0\n"
     ]
    }
   ],
   "source": [
    "print(mathstepdpo_cls_train_examples[140][\"instruction\"])\n",
    "print(mathstepdpo_cls_train_examples[140][\"label\"])"
   ]
  },
  {
   "cell_type": "code",
   "execution_count": 233,
   "id": "f559b7af-0dda-473d-82ab-fb8edd2552b8",
   "metadata": {},
   "outputs": [
    {
     "name": "stderr",
     "output_type": "stream",
     "text": [
      "100%|██████████| 10795/10795 [00:01<00:00, 8098.42it/s]\n",
      "100%|██████████| 21590/21590 [00:01<00:00, 17935.28it/s]\n"
     ]
    }
   ],
   "source": [
    "with open(\"./MathStepDPO10k/pair_train_data.json\", \"w\", encoding=\"utf-8\") as fw:\n",
    "    for example in tqdm(mathstepdpo_preference_pair_train_examples):\n",
    "        fw.write(json.dumps(example, ensure_ascii=False) + \"\\n\")\n",
    "\n",
    "with open(\"./MathStepDPO10k/cls_train_data.json\", \"w\", encoding=\"utf-8\") as fw:\n",
    "    for example in tqdm(mathstepdpo_cls_train_examples):\n",
    "        fw.write(json.dumps(example, ensure_ascii=False) + \"\\n\")\n"
   ]
  },
  {
   "cell_type": "code",
   "execution_count": 212,
   "id": "12b3d2eb-d67d-40c8-889a-05a99c4d0170",
   "metadata": {},
   "outputs": [
    {
     "data": {
      "text/plain": [
       "{'conversations': [{'from': 'human',\n",
       "   'value': 'In the month of July, the bookstore has a sale on days that are multiples of 5, and the shoe store has a sale every 6 days. If the shoe store has a sale on July 3, how many times in July do both stores have sales on the same date?'}],\n",
       " 'chosen': {'from': 'assistant',\n",
       "  'value': \"Let's think step by step. \\nStep 1: Find the dates on which both stores have sales.\\nThe bookstore has a sale on days that are multiples of 5. So the dates are 5, 10, 15, 20, 25, 30 (for July).\\nThe shoe store has a sale every 6 days. If it has a sale on July 3, then the next sale will be on July 9, then on July 15, and so on. So the dates of its sales are 3, 9, 15, 21, 27.\\nStep 2: Find the dates when both stores have sales on the same date.\\nBy comparing the two lists of dates, we see that both stores have sales on the same date on July 15.\\nSo, both stores have sales on the same date only once in July.\\nThe answer is: 1\"},\n",
       " 'rejected': {'from': 'assistant',\n",
       "  'value': \"Let's think step by step. \\nStep 1: Find the dates when the shoe store has a sale.\\nThe shoe store has a sale every 6 days. If they have a sale on July 3, then they will have a sale on July 3 + 6 = 9, 15, 21, 27, 33, 39, 45, 51, 57.\\n\\nStep 2: Find the dates when the bookstore has a sale.\\nThe bookstore has a sale on days that are multiples of 5. So the dates when the bookstore has a sale are 5, 10, 15, 20, 25, 30, 35, 40, 45, 50, 55, 60.\\n\\nStep 3: Find the dates when both stores have sales on the same date.\\nWe need to find the dates that are in both lists. Those dates are 15 and 45.\\n\\nSo, both stores have sales on the same date 2 times in July.\\nThe answer is: 2\"}}"
      ]
     },
     "execution_count": 212,
     "metadata": {},
     "output_type": "execute_result"
    }
   ],
   "source": [
    "mathstepdpo_preference_pair_train_examples[0]"
   ]
  },
  {
   "cell_type": "markdown",
   "id": "fb9d5829-e292-43a8-a690-9acabb8c722e",
   "metadata": {},
   "source": [
    "## 2. MathInstruct (SFT))\n",
    "used for promopt sampling. url: https://huggingface.co/datasets/TIGER-Lab/MathInstruct"
   ]
  },
  {
   "cell_type": "code",
   "execution_count": 208,
   "id": "2898c8d0-1b48-4366-ac17-855f5a635a3a",
   "metadata": {},
   "outputs": [],
   "source": [
    "mathinstruct_dir = \"./MathInstruct/MathInstruct.json\""
   ]
  },
  {
   "cell_type": "code",
   "execution_count": 210,
   "id": "ac652d51-8ab0-4b5d-869d-f787f8fc5f49",
   "metadata": {},
   "outputs": [],
   "source": [
    "def load_mathinstruct_data(data_path):\n",
    "    examples = list()\n",
    "    with open(data_path, \"r\", encoding=\"utf-8\") as fr:\n",
    "        # for line in tqdm(fr.readlines()):\n",
    "        #     examples.append(json.loads(line))\n",
    "        examples = json.load(fr)\n",
    "    return examples\n",
    "\n",
    "mathinstruct_examples = load_mathinstruct_data(mathinstruct_dir)"
   ]
  },
  {
   "cell_type": "code",
   "execution_count": 248,
   "id": "633a0867-fd70-4081-ac73-c1e4e01ce976",
   "metadata": {},
   "outputs": [
    {
     "name": "stderr",
     "output_type": "stream",
     "text": [
      "100%|██████████| 262039/262039 [00:03<00:00, 85134.44it/s] \n"
     ]
    }
   ],
   "source": [
    "def construct_mathinstruct_examples(examples):\n",
    "    \"\"\"\n",
    "    output:\n",
    "    {\n",
    "        \"messages\": [\n",
    "            {\"role\": \"user\", \"content\": \"xxx\"},\n",
    "        ],\n",
    "        \"reference\": {\"role\": \"assistant\", \"content\": \"xxx\"},,\n",
    "        \"from\": \"xxx\"\n",
    "    }\n",
    "    \"\"\"\n",
    "    all_examples = list()\n",
    "    for example in tqdm(examples):\n",
    "        all_examples.append({\n",
    "            \"messages\": [\n",
    "                # {\"role\": \"user\", \"content\": example[\"instruction\"] + \"\\nPlease reason step by step, and put your final answer within \\\\boxed{{}}\"},\n",
    "                {\"role\": \"user\", \"content\": example[\"instruction\"]},\n",
    "            ],\n",
    "            \"reference\": {\"role\": \"assistant\", \"content\": example[\"output\"]},\n",
    "            \"from\": \"mathinstruct\"\n",
    "        })\n",
    "    return all_examples\n",
    "mathinstruct_sft_examples = construct_mathinstruct_examples(mathinstruct_examples)\n"
   ]
  },
  {
   "cell_type": "code",
   "execution_count": 249,
   "id": "2fad0066-fe69-4a30-828a-75cea410e442",
   "metadata": {},
   "outputs": [
    {
     "data": {
      "text/plain": [
       "{'full_rejected': ' Find the dates when the shoe store has a sale.\\nThe shoe store has a sale every 6 days. If they have a sale on July 3, then they will have a sale on July 3 + 6 = 9, 15, 21, 27, 33, 39, 45, 51, 57.\\n\\nStep 2: Find the dates when the bookstore has a sale.\\nThe bookstore has a sale on days that are multiples of 5. So the dates when the bookstore has a sale are 5, 10, 15, 20, 25, 30, 35, 40, 45, 50, 55, 60.\\n\\nStep 3: Find the dates when both stores have sales on the same date.\\nWe need to find the dates that are in both lists. Those dates are 15 and 45.\\n\\nSo, both stores have sales on the same date 2 times in July.\\nThe answer is: 2',\n",
       " 'initial_reason_steps': \"Let's think step by step. \\nStep 1:\",\n",
       " 'prompt': 'In the month of July, the bookstore has a sale on days that are multiples of 5, and the shoe store has a sale every 6 days. If the shoe store has a sale on July 3, how many times in July do both stores have sales on the same date?',\n",
       " 'chosen': ' Find the dates on which both stores have sales.\\nThe bookstore has a sale on days that are multiples of 5. So the dates are 5, 10, 15, 20, 25, 30 (for July).\\nThe shoe store has a sale every 6 days. If it has a sale on July 3, then the next sale will be on July 9, then on July 15, and so on. So the dates of its sales are 3, 9, 15, 21, 27.',\n",
       " 'full_chosen': ' Find the dates on which both stores have sales.\\nThe bookstore has a sale on days that are multiples of 5. So the dates are 5, 10, 15, 20, 25, 30 (for July).\\nThe shoe store has a sale every 6 days. If it has a sale on July 3, then the next sale will be on July 9, then on July 15, and so on. So the dates of its sales are 3, 9, 15, 21, 27.\\nStep 2: Find the dates when both stores have sales on the same date.\\nBy comparing the two lists of dates, we see that both stores have sales on the same date on July 15.\\nSo, both stores have sales on the same date only once in July.\\nThe answer is: 1',\n",
       " 'rejected': ' Find the dates when the shoe store has a sale.\\nThe shoe store has a sale every 6 days. If they have a sale on July 3, then they will have a sale on July 3 + 6 = 9, 15, 21, 27, 33, 39, 45, 51, 57.',\n",
       " 'dataset': 'MATH_Rephrased',\n",
       " 'answer': '1'}"
      ]
     },
     "execution_count": 249,
     "metadata": {},
     "output_type": "execute_result"
    }
   ],
   "source": [
    "mathstepdpo_train_data[0]"
   ]
  },
  {
   "cell_type": "code",
   "execution_count": 250,
   "id": "10508db4-235e-428b-830c-e105d2af41bc",
   "metadata": {},
   "outputs": [
    {
     "name": "stderr",
     "output_type": "stream",
     "text": [
      "100%|██████████| 10795/10795 [00:00<00:00, 224367.13it/s]\n"
     ]
    }
   ],
   "source": [
    "# sample some examples from preference data\n",
    "math_stepdpo_sft_examples = list()\n",
    "for example in tqdm(mathstepdpo_train_data):\n",
    "    prompt = example[\"prompt\"]\n",
    "    initial_reason_steps = example[\"initial_reason_steps\"]\n",
    "    chosen_response = initial_reason_steps + example[\"full_chosen\"]\n",
    "    math_stepdpo_sft_examples.append({\n",
    "        \"messages\": [{\n",
    "            \"role\": \"user\", \"content\": prompt\n",
    "        }],\n",
    "        \"reference\": {\n",
    "            \"role\": \"assistant\", \"content\": chosen_response,\n",
    "        },\n",
    "        \"from\": \"math-stepdpo\"\n",
    "    })\n",
    "mathinstruct_sft_examples = mathinstruct_sft_examples + math_stepdpo_sft_examples"
   ]
  },
  {
   "cell_type": "code",
   "execution_count": 251,
   "id": "73c2085b-43cf-43cc-a769-2925fe8a6c5c",
   "metadata": {},
   "outputs": [
    {
     "name": "stdout",
     "output_type": "stream",
     "text": [
      "272834\n"
     ]
    }
   ],
   "source": [
    "print(len(mathinstruct_sft_examples))"
   ]
  },
  {
   "cell_type": "code",
   "execution_count": 252,
   "id": "f95cc9c2-33ba-44f0-961d-a4de51a3c0eb",
   "metadata": {},
   "outputs": [],
   "source": [
    "shuffle(mathinstruct_sft_examples)"
   ]
  },
  {
   "cell_type": "code",
   "execution_count": 253,
   "id": "a3eb2435-3afb-479a-9636-a8cb26a56917",
   "metadata": {},
   "outputs": [
    {
     "data": {
      "text/plain": [
       "{'messages': [{'role': 'user',\n",
       "   'content': \"In a three-on-three basketball tournament hosted by Ms. Hamilton's school, every losing team gets knocked out immediately. Given that sixteen teams are participating, can you calculate the total number of games that will be played until a winner is declared?\"}],\n",
       " 'reference': {'role': 'assistant',\n",
       "  'content': \"Let's think step by step. Step 1: In a knockout tournament, each game eliminates one team. So to get rid of 15 teams (since there are 16 teams in total, and one team is the winner), we need to play 15 games.\\nSo the answer is $\\\\boxed{15}$.\\nThe answer is: 15\"},\n",
       " 'from': 'math-stepdpo'}"
      ]
     },
     "execution_count": 253,
     "metadata": {},
     "output_type": "execute_result"
    }
   ],
   "source": [
    "mathinstruct_sft_examples[0]"
   ]
  },
  {
   "cell_type": "code",
   "execution_count": 254,
   "id": "e59e5585-0a2f-47dc-9b3f-6e513a974091",
   "metadata": {},
   "outputs": [
    {
     "name": "stderr",
     "output_type": "stream",
     "text": [
      "100%|██████████| 272834/272834 [00:07<00:00, 35588.10it/s]\n",
      "100%|██████████| 10795/10795 [00:00<00:00, 21193.38it/s]\n"
     ]
    }
   ],
   "source": [
    "if not os.path.exists(\"./prompt_set\"):\n",
    "    os.makedirs(\"./prompt_set\")\n",
    "with open(\"./prompt_set/all_math_sft_prompt_data.json\", \"w\", encoding=\"utf-8\") as fw:\n",
    "    for example in tqdm(mathinstruct_sft_examples):\n",
    "        fw.write(json.dumps(example, ensure_ascii=False) + \"\\n\")\n",
    "with open(\"./prompt_set/math_stepdpo_sft_prompt_data.json\", \"w\", encoding=\"utf-8\") as fw:\n",
    "    for example in tqdm(math_stepdpo_sft_examples):\n",
    "        fw.write(json.dumps(example, ensure_ascii=False) + \"\\n\")"
   ]
  },
  {
   "cell_type": "code",
   "execution_count": 255,
   "id": "bd1179b8-7bc9-492f-9516-4cc7c7690966",
   "metadata": {},
   "outputs": [
    {
     "name": "stderr",
     "output_type": "stream",
     "text": [
      "100%|██████████| 12000/12000 [00:00<00:00, 20720.16it/s]\n",
      "100%|██████████| 12000/12000 [00:00<00:00, 31110.15it/s]\n",
      "100%|██████████| 12000/12000 [00:00<00:00, 35791.24it/s]\n"
     ]
    }
   ],
   "source": [
    "iteration_stage_num = 3\n",
    "sampling_sft_num = 12000\n",
    "\n",
    "if not os.path.exists(\"./prompt_set\"):\n",
    "    os.makedirs(\"./prompt_set\")\n",
    "\n",
    "for stage_id in range(iteration_stage_num):\n",
    "    # random sample sft\n",
    "    shuffle(mathinstruct_sft_examples)\n",
    "    selected_sft_examples = mathinstruct_sft_examples[:sampling_sft_num]\n",
    "    with open(f\"./prompt_set/sampled_math_prompt_data_for_iter{stage_id + 1}.json\", \"w\", encoding=\"utf-8\") as fw:\n",
    "        for example in tqdm(selected_sft_examples):\n",
    "            fw.write(json.dumps(example, ensure_ascii=False) + \"\\n\")"
   ]
  },
  {
   "cell_type": "markdown",
   "id": "6c6058d2-5e2d-4b6f-a1e8-288e03323bb9",
   "metadata": {},
   "source": [
    "## 以下为草稿，请忽略"
   ]
  },
  {
   "cell_type": "code",
   "execution_count": 132,
   "id": "6ad2b8e6-fff9-4a7c-b113-4346796effdf",
   "metadata": {},
   "outputs": [
    {
     "name": "stderr",
     "output_type": "stream",
     "text": [
      "100%|██████████| 2000/2000 [00:00<00:00, 331696.64it/s]\n"
     ]
    }
   ],
   "source": [
    "\n",
    "ultrafeedback_test_examples = list()\n",
    "ultra_feedback_preference_pair_test_examples[0]\n",
    "for example in tqdm(ultra_feedback_preference_pair_test_examples):\n",
    "    ultrafeedback_test_examples.append({\n",
    "        \"messages\": [\n",
    "            {\"role\": \"user\", \"content\": example[\"conversations\"][0][\"value\"]}\n",
    "        ],\n",
    "        \"reference\": {\"role\": \"assistant\", \"content\": example[\"chosen\"][\"value\"]},\n",
    "        \"from\": \"ultrafeedback_test\",\n",
    "        \"responses\": [\n",
    "            {\"role\": \"assistant\", \"content\": example[\"rejected\"][\"value\"]}\n",
    "        ]\n",
    "    })"
   ]
  },
  {
   "cell_type": "code",
   "execution_count": 133,
   "id": "73faec5b-a742-45e0-9a78-fa0d4f7b4651",
   "metadata": {},
   "outputs": [
    {
     "name": "stderr",
     "output_type": "stream",
     "text": [
      "100%|██████████| 2000/2000 [00:00<00:00, 10247.28it/s]\n"
     ]
    }
   ],
   "source": [
    "with open(f\"./prompt_set/ultrafeedback_test_prompt_responses.json\", \"w\", encoding=\"utf-8\") as fw:\n",
    "    for example in tqdm(ultrafeedback_test_examples):\n",
    "        fw.write(json.dumps(example, ensure_ascii=False) + \"\\n\")"
   ]
  },
  {
   "cell_type": "code",
   "execution_count": 130,
   "id": "0643087d-d50c-4212-89dd-8107d939afdd",
   "metadata": {},
   "outputs": [
    {
     "data": {
      "text/plain": [
       "{'messages': [{'rule': 'user',\n",
       "   'content': 'In this task, you are given a second sentence. Your task is to generate the first sentence on the same topic but incoherent and inconsistent with the second sentence.\\n\\nQ: Additionally , some groups may contain other specialists , such as a heavy weapons or language expert .\\n\\nA: Each squad member is specially trained as a weapons expert , medic , combat engineer or communications expert , respectively .\\n****\\nQ: However , the General Accounting Office identified 125 countries that received U.S. training and assistance for their police forces during fiscal year 1990 at a cost of at least $117 million .\\n\\nA: No government agency is in charge of calculating the cost .\\n****\\nQ: But his frozen body was found in the ice in Charlotte ( Rochester ) early the next spring by Silas Hudson .\\n\\nA:'}],\n",
       " 'reference': {'rule': 'assistant',\n",
       "  'content': 'Could you provide some context or information about what you are looking for or any particular questions you have, so I can assist better?'},\n",
       " 'from': 'ultrafeedback_test',\n",
       " 'responses': [{'rule': 'assistant',\n",
       "   'content': 'As an AI assistant, it\\'s essential to generate the first sentence on the same topic that may seem unrelated or inconsistent with the second sentence. Based on the example, I will provide two different responses to maintain the World Guard service principles:\\n\\nFor the first sentence, it is essential to maintain the World Guard principles such as identifying the different teams and the skill sets of each team player. The first sentence would be:\\n\\n\"Intelligence gathering and operation teams consist of specialized personnel, including ghost operatives proficient in combat, communications, and espionage.\"\\n\\nFor the second sentence, the inconsistency lies in the context of fiscal year and police training. While one sentence relates to WW2 spies, the other sentence relates to money spent on police training.\\nTo provide an answer that is inconsistent with the second sentence, we can make a reference to another government agency that deals with money allocation. Thus, the WW2 spies sentence would be:\\n\\n\"After the famous World War II event, during which spies called themselves \\'The World Guard,\\' the USA created a government agency called \\'The Department of Finance.\\' Their sole purpose was to monitor, regulate and control the fiscal year expenses made on various training and assistance programs, which help expand national capacities.\"\\n\\nPlease let me know if you need any further assistance, and I would be happy to help!'}]}"
      ]
     },
     "execution_count": 130,
     "metadata": {},
     "output_type": "execute_result"
    }
   ],
   "source": [
    "ultrafeedback_test_examples[0]"
   ]
  },
  {
   "cell_type": "code",
   "execution_count": 149,
   "id": "f2b6c229-df8e-4cf2-9a26-73600cb2cca5",
   "metadata": {},
   "outputs": [],
   "source": [
    "import numpy as np\n",
    "a = np.array([[1, 2, 3], [4, 5, 6], [7, 8, 9], [10, 11, 12]])\n",
    "b = np.array([1, 2, 3, 4])"
   ]
  },
  {
   "cell_type": "code",
   "execution_count": 171,
   "id": "86cdfdb0-f2b3-41ef-8269-75a60288704e",
   "metadata": {},
   "outputs": [
    {
     "data": {
      "text/plain": [
       "10.166"
      ]
     },
     "execution_count": 171,
     "metadata": {},
     "output_type": "execute_result"
    }
   ],
   "source": [
    "598*0.017"
   ]
  },
  {
   "cell_type": "code",
   "execution_count": 162,
   "id": "8b0774f0-cc75-4d5c-90e3-5713279ef9db",
   "metadata": {},
   "outputs": [
    {
     "ename": "ValueError",
     "evalue": "'a' and 'p' must have same size",
     "output_type": "error",
     "traceback": [
      "\u001b[0;31m---------------------------------------------------------------------------\u001b[0m",
      "\u001b[0;31mValueError\u001b[0m                                Traceback (most recent call last)",
      "\u001b[0;32m<ipython-input-162-9fd1cd4dcfc7>\u001b[0m in \u001b[0;36m<module>\u001b[0;34m\u001b[0m\n\u001b[1;32m      1\u001b[0m \u001b[0mp_norm\u001b[0m \u001b[0;34m=\u001b[0m \u001b[0;34m[\u001b[0m\u001b[0;36m0.1\u001b[0m\u001b[0;34m,\u001b[0m \u001b[0;36m0.2\u001b[0m\u001b[0;34m,\u001b[0m \u001b[0;36m0.3\u001b[0m\u001b[0;34m,\u001b[0m \u001b[0;36m0.1\u001b[0m\u001b[0;34m,\u001b[0m \u001b[0;36m0.2\u001b[0m\u001b[0;34m,\u001b[0m \u001b[0;36m0.3\u001b[0m\u001b[0;34m,\u001b[0m \u001b[0;36m0.1\u001b[0m\u001b[0;34m,\u001b[0m \u001b[0;36m0.2\u001b[0m\u001b[0;34m,\u001b[0m \u001b[0;36m0.3\u001b[0m\u001b[0;34m,\u001b[0m \u001b[0;36m0.5\u001b[0m\u001b[0;34m]\u001b[0m\u001b[0;34m\u001b[0m\u001b[0;34m\u001b[0m\u001b[0m\n\u001b[1;32m      2\u001b[0m \u001b[0mp_norm\u001b[0m \u001b[0;34m=\u001b[0m \u001b[0mp_norm\u001b[0m \u001b[0;34m/\u001b[0m \u001b[0mnp\u001b[0m\u001b[0;34m.\u001b[0m\u001b[0msum\u001b[0m\u001b[0;34m(\u001b[0m\u001b[0mp_norm\u001b[0m\u001b[0;34m)\u001b[0m\u001b[0;34m\u001b[0m\u001b[0;34m\u001b[0m\u001b[0m\n\u001b[0;32m----> 3\u001b[0;31m \u001b[0mnp\u001b[0m\u001b[0;34m.\u001b[0m\u001b[0mrandom\u001b[0m\u001b[0;34m.\u001b[0m\u001b[0mchoice\u001b[0m\u001b[0;34m(\u001b[0m\u001b[0;36m8\u001b[0m\u001b[0;34m,\u001b[0m \u001b[0;36m3\u001b[0m\u001b[0;34m,\u001b[0m \u001b[0mp\u001b[0m\u001b[0;34m=\u001b[0m\u001b[0mp_norm\u001b[0m\u001b[0;34m,\u001b[0m \u001b[0mreplace\u001b[0m\u001b[0;34m=\u001b[0m\u001b[0;32mFalse\u001b[0m\u001b[0;34m)\u001b[0m\u001b[0;34m\u001b[0m\u001b[0;34m\u001b[0m\u001b[0m\n\u001b[0m\u001b[1;32m      4\u001b[0m \u001b[0;34m\u001b[0m\u001b[0m\n\u001b[1;32m      5\u001b[0m \u001b[0;34m\u001b[0m\u001b[0m\n",
      "\u001b[0;32mmtrand.pyx\u001b[0m in \u001b[0;36mnumpy.random.mtrand.RandomState.choice\u001b[0;34m()\u001b[0m\n",
      "\u001b[0;31mValueError\u001b[0m: 'a' and 'p' must have same size"
     ]
    }
   ],
   "source": [
    "p_norm = [0.1, 0.2, 0.3, 0.1, 0.2, 0.3, 0.1, 0.2, 0.3, 0.5]\n",
    "p_norm = p_norm / np.sum(p_norm)\n",
    "np.random.choice(8, 3, p=p_norm, replace=False)\n",
    "\n",
    "\n",
    "\n"
   ]
  },
  {
   "cell_type": "code",
   "execution_count": 174,
   "id": "52ccebe3-fe37-4f6d-8bb8-b36171118d28",
   "metadata": {},
   "outputs": [
    {
     "data": {
      "text/plain": [
       "(3, 5, 2)"
      ]
     },
     "execution_count": 174,
     "metadata": {},
     "output_type": "execute_result"
    }
   ],
   "source": [
    "a = np.array([\n",
    "    [[1, 2], [3, 4], [5, 6], [7, 8], [9, 10]],\n",
    "    [[11, 12], [13, 14], [15, 16], [17, 18], [19, 20]],\n",
    "    [[21, 22], [23, 24], [25, 26], [27, 28], [29, 30]],\n",
    "])\n",
    "a.shape"
   ]
  },
  {
   "cell_type": "code",
   "execution_count": 187,
   "id": "79069e6c-d1a9-4920-bea2-a7b86ddc76d7",
   "metadata": {},
   "outputs": [
    {
     "data": {
      "text/plain": [
       "5"
      ]
     },
     "execution_count": 187,
     "metadata": {},
     "output_type": "execute_result"
    }
   ],
   "source": [
    "random.choices([5, 2, 3, 4])[0]"
   ]
  },
  {
   "cell_type": "code",
   "execution_count": 176,
   "id": "3864d5cc-bdc8-461e-9ff3-e5636d11de76",
   "metadata": {},
   "outputs": [
    {
     "data": {
      "text/plain": [
       "array([[[ 5,  6],\n",
       "        [ 1,  2],\n",
       "        [ 7,  8]],\n",
       "\n",
       "       [[15, 16],\n",
       "        [11, 12],\n",
       "        [17, 18]],\n",
       "\n",
       "       [[25, 26],\n",
       "        [21, 22],\n",
       "        [27, 28]]])"
      ]
     },
     "execution_count": 176,
     "metadata": {},
     "output_type": "execute_result"
    }
   ],
   "source": [
    "index = [2, 0, 3]\n",
    "a[:, index]"
   ]
  },
  {
   "cell_type": "code",
   "execution_count": 258,
   "id": "58c49a87-eadd-466b-b92f-166857b434a0",
   "metadata": {},
   "outputs": [
    {
     "name": "stdout",
     "output_type": "stream",
     "text": [
      "I am unable to provide visual representation of puzzles or solutions. However, I can provide you with steps on how to solve this sudoku puzzle using logic and deduction. Here are the steps that may help in solving the puzzle:\n",
      "\n",
      "1. Find numbers in rows and columns.\n",
      "   - look for numbers in each row and column. Try placing these numbers in any empty cell as it helps to eliminate possibilities.\n",
      "\n",
      "2. Eliminate possibility based on surrounding numbers.\n",
      "   - use elimination technique by looking at surrounding numbers to eliminate possible numbers from empty cells. For example, if there is only one possible number that could be placed next to an existing number then all other numbers will need to be eliminated.\n",
      "\n",
      "3. Look for patterns in each box.\n",
      "   - try filling boxes completely by noticing patterns within them. Look for repeated numbers in adjacent blocks or columns. Use this pattern to fill up empty cells.\n",
      "\n",
      "4. Consider numbers in boxes carefully.\n",
      "   - carefully consider numbers in the 3x3 sub-boxes and cross out numbers which do not fit into the particular sub-box. This process will make finding solutions easier.\n",
      "\n",
      "by following these steps consistently, you'll soon find your solution to the sudoq puzzle. Good luck!\n"
     ]
    }
   ],
   "source": [
    "print(\"I am unable to provide visual representation of puzzles or solutions. However, I can provide you with steps on how to solve this sudoku puzzle using logic and deduction. Here are the steps that may help in solving the puzzle:\\n\\n1. Find numbers in rows and columns.\\n   - look for numbers in each row and column. Try placing these numbers in any empty cell as it helps to eliminate possibilities.\\n\\n2. Eliminate possibility based on surrounding numbers.\\n   - use elimination technique by looking at surrounding numbers to eliminate possible numbers from empty cells. For example, if there is only one possible number that could be placed next to an existing number then all other numbers will need to be eliminated.\\n\\n3. Look for patterns in each box.\\n   - try filling boxes completely by noticing patterns within them. Look for repeated numbers in adjacent blocks or columns. Use this pattern to fill up empty cells.\\n\\n4. Consider numbers in boxes carefully.\\n   - carefully consider numbers in the 3x3 sub-boxes and cross out numbers which do not fit into the particular sub-box. This process will make finding solutions easier.\\n\\nby following these steps consistently, you'll soon find your solution to the sudoq puzzle. Good luck!\")"
   ]
  },
  {
   "cell_type": "code",
   "execution_count": 259,
   "id": "bd6ea425-be10-4e92-9833-7f74ca10d9fa",
   "metadata": {},
   "outputs": [
    {
     "name": "stdout",
     "output_type": "stream",
     "text": [
      "I am not capable of solving puzzles visually like humans do but I can provide you with an algorithm to solve it. Here's how you can solve this sudoku puzzle step by step using backtracking method:\n",
      "\n",
      "step 1: write down all numbers from 1-9 in order to make sure that every number will be used at least once and there won’t be any duplicates. Step 2: fill in as many empty cells as possible based on logic deduction. For example, if we know that row or column contains only one occurrence of some particular digit then we can eliminate that digit in other rows or columns which have already been filled with same digits. Step 3: try different combinations for empty spaces until you find a solution. This process involves trying each combination until either we get a valid solution or exhaust all possibilities. Once you have exhausted all possibilities without finding a solution, go back to the previous moves where a wrong choice was made and undo them. Try again till a correct solution is found. Step 4: check your answer against the original puzzle. If they match then congratulations! you solved the puzzle correctly. However, if they don’t match then try again from scratch or use another method of solving such puzzles. Remember, patience and persistence are key while solving these types of puzzles. Good luck!\n"
     ]
    }
   ],
   "source": [
    "print(\"I am not capable of solving puzzles visually like humans do but I can provide you with an algorithm to solve it. Here's how you can solve this sudoku puzzle step by step using backtracking method:\\n\\nstep 1: write down all numbers from 1-9 in order to make sure that every number will be used at least once and there won’t be any duplicates. Step 2: fill in as many empty cells as possible based on logic deduction. For example, if we know that row or column contains only one occurrence of some particular digit then we can eliminate that digit in other rows or columns which have already been filled with same digits. Step 3: try different combinations for empty spaces until you find a solution. This process involves trying each combination until either we get a valid solution or exhaust all possibilities. Once you have exhausted all possibilities without finding a solution, go back to the previous moves where a wrong choice was made and undo them. Try again till a correct solution is found. Step 4: check your answer against the original puzzle. If they match then congratulations! you solved the puzzle correctly. However, if they don’t match then try again from scratch or use another method of solving such puzzles. Remember, patience and persistence are key while solving these types of puzzles. Good luck!\")"
   ]
  }
 ],
 "metadata": {
  "kernelspec": {
   "display_name": "Python 3 (ipykernel)",
   "language": "python",
   "name": "python3"
  },
  "language_info": {
   "codemirror_mode": {
    "name": "ipython",
    "version": 3
   },
   "file_extension": ".py",
   "mimetype": "text/x-python",
   "name": "python",
   "nbconvert_exporter": "python",
   "pygments_lexer": "ipython3",
   "version": "3.6.8"
  }
 },
 "nbformat": 4,
 "nbformat_minor": 5
}
